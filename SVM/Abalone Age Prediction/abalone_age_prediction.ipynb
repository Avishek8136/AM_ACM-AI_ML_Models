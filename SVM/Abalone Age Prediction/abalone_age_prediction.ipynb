{
 "cells": [
  {
   "cell_type": "markdown",
   "metadata": {},
   "source": [
    "# Abalone Age Predictor"
   ]
  },
  {
   "cell_type": "markdown",
   "metadata": {},
   "source": [
    "### Importing Numpy and Pandas module"
   ]
  },
  {
   "cell_type": "code",
   "execution_count": 1,
   "metadata": {},
   "outputs": [],
   "source": [
    "import numpy as np\n",
    "import pandas as pd"
   ]
  },
  {
   "cell_type": "code",
   "execution_count": 3,
   "metadata": {},
   "outputs": [],
   "source": [
    "url_path = \"https://archive.ics.uci.edu/ml/machine-learning-databases/abalone/abalone.data\"\n",
    "names = ['sex','lenght','diameter','height','whole','shucked','viscera','shell','rings']\n",
    "df = pd.read_csv(url_path,header=1, names=names)"
   ]
  },
  {
   "cell_type": "code",
   "execution_count": 4,
   "metadata": {},
   "outputs": [
    {
     "data": {
      "text/plain": [
       "<bound method NDFrame.head of      sex  lenght  diameter  height   whole  shucked  viscera   shell  rings\n",
       "0      F   0.530     0.420   0.135  0.6770   0.2565   0.1415  0.2100      9\n",
       "1      M   0.440     0.365   0.125  0.5160   0.2155   0.1140  0.1550     10\n",
       "2      I   0.330     0.255   0.080  0.2050   0.0895   0.0395  0.0550      7\n",
       "3      I   0.425     0.300   0.095  0.3515   0.1410   0.0775  0.1200      8\n",
       "4      F   0.530     0.415   0.150  0.7775   0.2370   0.1415  0.3300     20\n",
       "...   ..     ...       ...     ...     ...      ...      ...     ...    ...\n",
       "4170   F   0.565     0.450   0.165  0.8870   0.3700   0.2390  0.2490     11\n",
       "4171   M   0.590     0.440   0.135  0.9660   0.4390   0.2145  0.2605     10\n",
       "4172   M   0.600     0.475   0.205  1.1760   0.5255   0.2875  0.3080      9\n",
       "4173   F   0.625     0.485   0.150  1.0945   0.5310   0.2610  0.2960     10\n",
       "4174   M   0.710     0.555   0.195  1.9485   0.9455   0.3765  0.4950     12\n",
       "\n",
       "[4175 rows x 9 columns]>"
      ]
     },
     "execution_count": 4,
     "metadata": {},
     "output_type": "execute_result"
    }
   ],
   "source": [
    "df.head"
   ]
  },
  {
   "cell_type": "code",
   "execution_count": 5,
   "metadata": {},
   "outputs": [
    {
     "data": {
      "text/plain": [
       "<bound method NDFrame.describe of      sex  lenght  diameter  height   whole  shucked  viscera   shell  rings\n",
       "0      F   0.530     0.420   0.135  0.6770   0.2565   0.1415  0.2100      9\n",
       "1      M   0.440     0.365   0.125  0.5160   0.2155   0.1140  0.1550     10\n",
       "2      I   0.330     0.255   0.080  0.2050   0.0895   0.0395  0.0550      7\n",
       "3      I   0.425     0.300   0.095  0.3515   0.1410   0.0775  0.1200      8\n",
       "4      F   0.530     0.415   0.150  0.7775   0.2370   0.1415  0.3300     20\n",
       "...   ..     ...       ...     ...     ...      ...      ...     ...    ...\n",
       "4170   F   0.565     0.450   0.165  0.8870   0.3700   0.2390  0.2490     11\n",
       "4171   M   0.590     0.440   0.135  0.9660   0.4390   0.2145  0.2605     10\n",
       "4172   M   0.600     0.475   0.205  1.1760   0.5255   0.2875  0.3080      9\n",
       "4173   F   0.625     0.485   0.150  1.0945   0.5310   0.2610  0.2960     10\n",
       "4174   M   0.710     0.555   0.195  1.9485   0.9455   0.3765  0.4950     12\n",
       "\n",
       "[4175 rows x 9 columns]>"
      ]
     },
     "execution_count": 5,
     "metadata": {},
     "output_type": "execute_result"
    }
   ],
   "source": [
    "df.describe"
   ]
  }
 ],
 "metadata": {
  "kernelspec": {
   "display_name": "Python 3",
   "language": "python",
   "name": "python3"
  },
  "language_info": {
   "codemirror_mode": {
    "name": "ipython",
    "version": 3
   },
   "file_extension": ".py",
   "mimetype": "text/x-python",
   "name": "python",
   "nbconvert_exporter": "python",
   "pygments_lexer": "ipython3",
   "version": "3.11.1"
  }
 },
 "nbformat": 4,
 "nbformat_minor": 2
}
