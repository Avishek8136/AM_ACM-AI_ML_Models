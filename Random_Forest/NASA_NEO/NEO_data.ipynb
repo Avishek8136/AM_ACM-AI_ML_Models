{
 "cells": [
  {
   "cell_type": "code",
   "execution_count": 1,
   "metadata": {},
   "outputs": [],
   "source": [
    "import pandas as pd "
   ]
  },
  {
   "cell_type": "code",
   "execution_count": 2,
   "metadata": {},
   "outputs": [],
   "source": [
    "\n",
    "import numpy as np \n"
   ]
  },
  {
   "cell_type": "markdown",
   "metadata": {},
   "source": [
    "We use the .dt accessor to access datetime properties of the \"Close Approach Date\" column, and .year specifically to extract the year component.\n",
    "\n",
    "The result is stored in a new column called \"year,\" which allows us to work with the year component separately."
   ]
  },
  {
   "cell_type": "code",
   "execution_count": 3,
   "metadata": {},
   "outputs": [],
   "source": [
    "date_cols = ['Close Approach Date', 'Close Approach Date (Full)']\n",
    "df = pd.read_csv(\"neo_data.csv\", parse_dates=date_cols)\n",
    "df['year']=df['Close Approach Date'].dt.year"
   ]
  },
  {
   "cell_type": "code",
   "execution_count": 4,
   "metadata": {},
   "outputs": [
    {
     "name": "stdout",
     "output_type": "stream",
     "text": [
      "<class 'pandas.core.frame.DataFrame'>\n",
      "RangeIndex: 904 entries, 0 to 903\n",
      "Data columns (total 28 columns):\n",
      " #   Column                        Non-Null Count  Dtype         \n",
      "---  ------                        --------------  -----         \n",
      " 0   ID                            904 non-null    int64         \n",
      " 1   Neo Reference ID              904 non-null    int64         \n",
      " 2   Name                          904 non-null    object        \n",
      " 3   Limited Name                  904 non-null    object        \n",
      " 4   Designation                   904 non-null    int64         \n",
      " 5   NASA JPL URL                  904 non-null    object        \n",
      " 6   Absolute Magnitude (H)        904 non-null    float64       \n",
      " 7   Min Diameter (km)             904 non-null    float64       \n",
      " 8   Max Diameter (km)             904 non-null    float64       \n",
      " 9   Min Diameter (m)              904 non-null    float64       \n",
      " 10  Max Diameter (m)              904 non-null    float64       \n",
      " 11  Min Diameter (miles)          904 non-null    float64       \n",
      " 12  Max Diameter (miles)          904 non-null    float64       \n",
      " 13  Min Diameter (feet)           904 non-null    float64       \n",
      " 14  Max Diameter (feet)           904 non-null    float64       \n",
      " 15  Is Potentially Hazardous      904 non-null    bool          \n",
      " 16  Close Approach Date           904 non-null    datetime64[ns]\n",
      " 17  Close Approach Date (Full)    904 non-null    datetime64[ns]\n",
      " 18  Epoch Date Close Approach     904 non-null    int64         \n",
      " 19  Relative Velocity (km/s)      904 non-null    float64       \n",
      " 20  Relative Velocity (km/h)      904 non-null    float64       \n",
      " 21  Relative Velocity (miles/h)   904 non-null    float64       \n",
      " 22  Miss Distance (astronomical)  904 non-null    float64       \n",
      " 23  Miss Distance (lunar)         904 non-null    float64       \n",
      " 24  Miss Distance (km)            904 non-null    float64       \n",
      " 25  Miss Distance (miles)         904 non-null    float64       \n",
      " 26  Orbiting Body                 904 non-null    object        \n",
      " 27  year                          904 non-null    int32         \n",
      "dtypes: bool(1), datetime64[ns](2), float64(16), int32(1), int64(4), object(4)\n",
      "memory usage: 188.2+ KB\n"
     ]
    }
   ],
   "source": [
    "df.info()"
   ]
  },
  {
   "cell_type": "code",
   "execution_count": 5,
   "metadata": {},
   "outputs": [
    {
     "data": {
      "text/plain": [
       "ID                               20\n",
       "Neo Reference ID                 20\n",
       "Name                             20\n",
       "Limited Name                     20\n",
       "Designation                      20\n",
       "NASA JPL URL                     20\n",
       "Absolute Magnitude (H)           20\n",
       "Min Diameter (km)                20\n",
       "Max Diameter (km)                20\n",
       "Min Diameter (m)                 20\n",
       "Max Diameter (m)                 20\n",
       "Min Diameter (miles)             20\n",
       "Max Diameter (miles)             20\n",
       "Min Diameter (feet)              20\n",
       "Max Diameter (feet)              20\n",
       "Is Potentially Hazardous          2\n",
       "Close Approach Date             903\n",
       "Close Approach Date (Full)      904\n",
       "Epoch Date Close Approach       904\n",
       "Relative Velocity (km/s)        904\n",
       "Relative Velocity (km/h)        904\n",
       "Relative Velocity (miles/h)     904\n",
       "Miss Distance (astronomical)    904\n",
       "Miss Distance (lunar)           904\n",
       "Miss Distance (km)              904\n",
       "Miss Distance (miles)           904\n",
       "Orbiting Body                     5\n",
       "year                            287\n",
       "dtype: int64"
      ]
     },
     "execution_count": 5,
     "metadata": {},
     "output_type": "execute_result"
    }
   ],
   "source": [
    "df.nunique()"
   ]
  },
  {
   "cell_type": "code",
   "execution_count": 6,
   "metadata": {},
   "outputs": [
    {
     "data": {
      "application/vnd.plotly.v1+json": {
       "config": {
        "plotlyServerURL": "https://plot.ly"
       },
       "data": [
        {
         "alignmentgroup": "True",
         "hovertemplate": "Orbiting Body=Earth<br>Limited Name=%{x}<br>count=%{y}<extra></extra>",
         "legendgroup": "Earth",
         "marker": {
          "color": "#636efa",
          "pattern": {
           "shape": ""
          }
         },
         "name": "Earth",
         "offsetgroup": "Earth",
         "orientation": "v",
         "showlegend": true,
         "textposition": "auto",
         "type": "bar",
         "x": [
          "Eros",
          "Eros",
          "Eros",
          "Eros",
          "Eros",
          "Eros",
          "Eros",
          "Eros",
          "Eros",
          "Eros",
          "Eros",
          "Eros",
          "Eros",
          "Eros",
          "Eros",
          "Eros",
          "Eros",
          "Eros",
          "Eros",
          "Eros",
          "Eros",
          "Eros",
          "Eros",
          "Eros",
          "Eros",
          "Eros",
          "Eros",
          "Eros",
          "Eros",
          "Eros",
          "Eros",
          "Eros",
          "Eros",
          "Eros",
          "Albert",
          "Albert",
          "Albert",
          "Albert",
          "Albert",
          "Albert",
          "Albert",
          "Albert",
          "Albert",
          "Alinda",
          "Alinda",
          "Alinda",
          "Alinda",
          "Alinda",
          "Alinda",
          "Alinda",
          "Alinda",
          "Alinda",
          "Alinda",
          "Alinda",
          "Alinda",
          "Alinda",
          "Alinda",
          "Ganymed",
          "Ganymed",
          "Ganymed",
          "Ganymed",
          "Ganymed",
          "Ganymed",
          "Ganymed",
          "Ganymed",
          "Ganymed",
          "Amor",
          "Amor",
          "Amor",
          "Amor",
          "Amor",
          "Amor",
          "Amor",
          "Amor",
          "Amor",
          "Amor",
          "Amor",
          "Amor",
          "Amor",
          "Amor",
          "Amor",
          "Amor",
          "Amor",
          "Amor",
          "Amor",
          "Amor",
          "Amor",
          "Amor",
          "Amor",
          "Amor",
          "Amor",
          "Amor",
          "Amor",
          "Amor",
          "Amor",
          "Icarus",
          "Icarus",
          "Icarus",
          "Icarus",
          "Icarus",
          "Icarus",
          "Icarus",
          "Icarus",
          "Icarus",
          "Icarus",
          "Icarus",
          "Icarus",
          "Icarus",
          "Icarus",
          "Icarus",
          "Icarus",
          "Icarus",
          "Icarus",
          "Icarus",
          "Icarus",
          "Icarus",
          "Icarus",
          "Icarus",
          "Icarus",
          "Icarus",
          "Icarus",
          "Icarus",
          "Icarus",
          "Icarus",
          "Icarus",
          "Icarus",
          "Icarus",
          "Icarus",
          "Icarus",
          "Icarus",
          "Icarus",
          "Icarus",
          "Icarus",
          "Icarus",
          "Icarus",
          "Icarus",
          "Icarus",
          "Icarus",
          "Icarus",
          "Icarus",
          "Icarus",
          "Icarus",
          "Icarus",
          "Icarus",
          "Icarus",
          "Icarus",
          "Icarus",
          "Icarus",
          "Icarus",
          "Icarus",
          "Icarus",
          "Icarus",
          "Icarus",
          "Icarus",
          "Icarus",
          "Icarus",
          "Icarus",
          "Icarus",
          "Icarus",
          "Icarus",
          "Icarus",
          "Icarus",
          "Icarus",
          "Icarus",
          "Icarus",
          "Icarus",
          "Icarus",
          "Icarus",
          "Icarus",
          "Icarus",
          "Icarus",
          "Icarus",
          "Icarus",
          "Icarus",
          "Icarus",
          "Icarus",
          "Icarus",
          "Icarus",
          "Betulia",
          "Betulia",
          "Betulia",
          "Betulia",
          "Betulia",
          "Betulia",
          "Betulia",
          "Betulia",
          "Betulia",
          "Betulia",
          "Betulia",
          "Betulia",
          "Betulia",
          "Betulia",
          "Betulia",
          "Betulia",
          "Betulia",
          "Betulia",
          "Betulia",
          "Geographos",
          "Geographos",
          "Geographos",
          "Geographos",
          "Geographos",
          "Geographos",
          "Geographos",
          "Geographos",
          "Geographos",
          "Geographos",
          "Geographos",
          "Geographos",
          "Geographos",
          "Geographos",
          "Geographos",
          "Geographos",
          "Geographos",
          "Geographos",
          "Geographos",
          "Geographos",
          "Geographos",
          "Geographos",
          "Geographos",
          "Geographos",
          "Geographos",
          "Geographos",
          "Geographos",
          "Geographos",
          "Geographos",
          "Geographos",
          "Geographos",
          "Geographos",
          "Geographos",
          "Geographos",
          "Geographos",
          "Geographos",
          "Geographos",
          "Geographos",
          "Geographos",
          "Geographos",
          "Geographos",
          "Geographos",
          "Geographos",
          "Geographos",
          "Geographos",
          "Geographos",
          "Geographos",
          "Geographos",
          "Geographos",
          "Geographos",
          "Geographos",
          "Geographos",
          "Geographos",
          "Geographos",
          "Geographos",
          "Geographos",
          "Geographos",
          "Geographos",
          "Geographos",
          "Geographos",
          "Geographos",
          "Geographos",
          "Geographos",
          "Geographos",
          "Geographos",
          "Geographos",
          "Geographos",
          "Geographos",
          "Geographos",
          "Geographos",
          "Geographos",
          "Geographos",
          "Geographos",
          "Geographos",
          "Geographos",
          "Geographos",
          "Ivar",
          "Ivar",
          "Ivar",
          "Ivar",
          "Ivar",
          "Ivar",
          "Ivar",
          "Ivar",
          "Ivar",
          "Ivar",
          "Ivar",
          "Ivar",
          "Ivar",
          "Ivar",
          "Ivar",
          "Ivar",
          "Ivar",
          "Ivar",
          "Ivar",
          "Ivar",
          "Ivar",
          "Toro",
          "Toro",
          "Toro",
          "Toro",
          "Toro",
          "Toro",
          "Toro",
          "Toro",
          "Toro",
          "Toro",
          "Toro",
          "Toro",
          "Toro",
          "Toro",
          "Toro",
          "Toro",
          "Toro",
          "Toro",
          "Toro",
          "Toro",
          "Toro",
          "Toro",
          "Toro",
          "Toro",
          "Toro",
          "Toro",
          "Toro",
          "Toro",
          "Toro",
          "Toro",
          "Toro",
          "Toro",
          "Toro",
          "Toro",
          "Toro",
          "Toro",
          "Toro",
          "Toro",
          "Toro",
          "Toro",
          "Toro",
          "Toro",
          "Toro",
          "Toro",
          "Toro",
          "Toro",
          "Toro",
          "Toro",
          "Toro",
          "Toro",
          "Toro",
          "Toro",
          "Toro",
          "Toro",
          "Toro",
          "Toro",
          "Toro",
          "Toro",
          "Toro",
          "Toro",
          "Toro",
          "Toro",
          "Toro",
          "Toro",
          "Toro",
          "Toro",
          "Toro",
          "Toro",
          "Toro",
          "Toro",
          "Toro",
          "Toro",
          "Toro",
          "Toro",
          "Toro",
          "Toro",
          "Apollo",
          "Apollo",
          "Apollo",
          "Apollo",
          "Apollo",
          "Apollo",
          "Apollo",
          "Apollo",
          "Apollo",
          "Apollo",
          "Apollo",
          "Apollo",
          "Apollo",
          "Apollo",
          "Apollo",
          "Apollo",
          "Apollo",
          "Apollo",
          "Apollo",
          "Apollo",
          "Apollo",
          "Apollo",
          "Apollo",
          "Apollo",
          "Apollo",
          "Apollo",
          "Apollo",
          "Apollo",
          "Apollo",
          "Apollo",
          "Apollo",
          "Apollo",
          "Apollo",
          "Apollo",
          "Apollo",
          "Apollo",
          "Apollo",
          "Apollo",
          "Apollo",
          "Apollo",
          "Apollo",
          "Apollo",
          "Apollo",
          "Apollo",
          "Apollo",
          "Apollo",
          "Apollo",
          "Apollo",
          "Apollo",
          "Apollo",
          "Apollo",
          "Apollo",
          "Apollo",
          "Apollo",
          "Apollo",
          "Apollo",
          "Apollo",
          "Apollo",
          "Apollo",
          "Apollo",
          "Apollo",
          "Apollo",
          "Apollo",
          "Antinous",
          "Antinous",
          "Antinous",
          "Antinous",
          "Antinous",
          "Antinous",
          "Antinous",
          "Antinous",
          "Antinous",
          "Antinous",
          "Antinous",
          "Antinous",
          "Antinous",
          "Antinous",
          "Antinous",
          "Antinous",
          "Antinous",
          "Antinous",
          "Antinous",
          "Antinous",
          "Daedalus",
          "Daedalus",
          "Daedalus",
          "Daedalus",
          "Daedalus",
          "Daedalus",
          "Daedalus",
          "Daedalus",
          "Daedalus",
          "Daedalus",
          "Daedalus",
          "Daedalus",
          "Daedalus",
          "Daedalus",
          "Daedalus",
          "Daedalus",
          "Daedalus",
          "Daedalus",
          "Daedalus",
          "Daedalus",
          "Daedalus",
          "Daedalus",
          "Daedalus",
          "Daedalus",
          "Daedalus",
          "Daedalus",
          "Daedalus",
          "Daedalus",
          "Daedalus",
          "Daedalus",
          "Daedalus",
          "Daedalus",
          "Daedalus",
          "Daedalus",
          "Daedalus",
          "Daedalus",
          "Daedalus",
          "Daedalus",
          "Daedalus",
          "Daedalus",
          "Daedalus",
          "Daedalus",
          "Daedalus",
          "Daedalus",
          "Daedalus",
          "Daedalus",
          "Daedalus",
          "Daedalus",
          "Daedalus",
          "Daedalus",
          "Daedalus",
          "Daedalus",
          "Daedalus",
          "Daedalus",
          "Daedalus",
          "Daedalus",
          "Daedalus",
          "Daedalus",
          "Daedalus",
          "Daedalus",
          "Daedalus",
          "Daedalus",
          "Daedalus",
          "Daedalus",
          "Daedalus",
          "Daedalus",
          "Daedalus",
          "Daedalus",
          "Daedalus",
          "Daedalus",
          "Daedalus",
          "Cerberus",
          "Cerberus",
          "Cerberus",
          "Cerberus",
          "Cerberus",
          "Cerberus",
          "Cerberus",
          "Cerberus",
          "Cerberus",
          "Cerberus",
          "Cerberus",
          "Cerberus",
          "Cerberus",
          "Cerberus",
          "Cerberus",
          "Cerberus",
          "Cerberus",
          "Cerberus",
          "Cerberus",
          "Cerberus",
          "Cerberus",
          "Cerberus",
          "Cerberus",
          "Cerberus",
          "Cerberus",
          "Cerberus",
          "Cerberus",
          "Cerberus",
          "Cerberus",
          "Cerberus",
          "Cerberus",
          "Cerberus",
          "Cerberus",
          "Cerberus",
          "Cerberus",
          "Cerberus",
          "Cerberus",
          "Cerberus",
          "Cerberus",
          "Cerberus",
          "Cerberus",
          "Cerberus",
          "Cerberus",
          "Cerberus",
          "Cerberus",
          "Cerberus",
          "Cerberus",
          "Cerberus",
          "Cerberus",
          "Cerberus",
          "Cerberus",
          "Cerberus",
          "Cerberus",
          "Cerberus",
          "Cerberus",
          "Cerberus",
          "Cerberus",
          "Cerberus",
          "Cerberus",
          "Cerberus",
          "Cerberus",
          "Cerberus",
          "Cerberus",
          "Cerberus",
          "Cerberus",
          "Cerberus",
          "Cerberus",
          "Cerberus",
          "Cerberus",
          "Cerberus",
          "Cerberus",
          "Cerberus",
          "Cerberus",
          "Cerberus",
          "Cerberus",
          "Cerberus",
          "Cerberus",
          "Cerberus",
          "Cerberus",
          "Cerberus",
          "Cerberus",
          "Cerberus",
          "Cerberus",
          "Cerberus",
          "Cerberus",
          "Cerberus",
          "Cerberus",
          "Cerberus",
          "Cerberus",
          "Cerberus",
          "Cerberus",
          "Cerberus",
          "Cerberus",
          "Cerberus",
          "Cerberus",
          "Cerberus",
          "Cerberus",
          "Cerberus",
          "Cerberus",
          "Cerberus",
          "Cerberus",
          "Cerberus",
          "Cerberus",
          "Cerberus",
          "Cerberus",
          "Cerberus",
          "Cerberus",
          "Cerberus",
          "Cerberus",
          "Cerberus",
          "Cerberus",
          "Cerberus",
          "Cerberus",
          "Cerberus",
          "Cerberus",
          "Cerberus",
          "Cerberus",
          "Cerberus",
          "Cerberus",
          "Cerberus",
          "Cerberus",
          "Cerberus",
          "Cerberus",
          "Cerberus",
          "Cerberus",
          "Cerberus",
          "Cerberus",
          "Sisyphus",
          "Sisyphus",
          "Sisyphus",
          "Sisyphus",
          "Sisyphus",
          "Sisyphus",
          "Sisyphus",
          "Sisyphus",
          "Sisyphus",
          "Sisyphus",
          "Sisyphus",
          "Sisyphus",
          "Sisyphus",
          "Sisyphus",
          "Sisyphus",
          "Sisyphus",
          "Sisyphus",
          "Sisyphus",
          "Sisyphus",
          "Sisyphus",
          "Sisyphus",
          "Sisyphus",
          "Sisyphus",
          "Sisyphus",
          "Sisyphus",
          "Sisyphus",
          "Sisyphus",
          "Quetzalcoatl",
          "Quetzalcoatl",
          "Quetzalcoatl",
          "Quetzalcoatl",
          "Quetzalcoatl",
          "Quetzalcoatl",
          "Quetzalcoatl",
          "Quetzalcoatl",
          "Quetzalcoatl",
          "Quetzalcoatl",
          "Quetzalcoatl",
          "Quetzalcoatl",
          "Quetzalcoatl",
          "Quetzalcoatl",
          "Quetzalcoatl",
          "Quetzalcoatl",
          "Quetzalcoatl",
          "Quetzalcoatl",
          "Quetzalcoatl",
          "Quetzalcoatl",
          "Quetzalcoatl",
          "Boreas",
          "Boreas",
          "Boreas",
          "Boreas",
          "Boreas",
          "Boreas",
          "Boreas",
          "Boreas",
          "Boreas",
          "Boreas",
          "Boreas",
          "Boreas",
          "Cuyo",
          "Cuyo",
          "Cuyo",
          "Cuyo",
          "Cuyo",
          "Cuyo",
          "Cuyo",
          "Cuyo",
          "Cuyo",
          "Cuyo",
          "Cuyo",
          "Cuyo",
          "Cuyo",
          "Cuyo",
          "Cuyo",
          "Anteros",
          "Anteros",
          "Anteros",
          "Anteros",
          "Anteros",
          "Anteros",
          "Anteros",
          "Anteros",
          "Anteros",
          "Anteros",
          "Anteros",
          "Anteros",
          "Anteros",
          "Anteros",
          "Anteros",
          "Anteros",
          "Anteros",
          "Anteros",
          "Anteros",
          "Anteros",
          "Anteros",
          "Anteros",
          "Anteros",
          "Anteros",
          "Anteros",
          "Anteros",
          "Anteros",
          "Anteros",
          "Anteros",
          "Anteros",
          "Anteros",
          "Anteros",
          "Anteros",
          "Anteros",
          "Anteros",
          "Anteros",
          "Anteros",
          "Tezcatlipoca",
          "Tezcatlipoca",
          "Tezcatlipoca",
          "Tezcatlipoca",
          "Tezcatlipoca",
          "Tezcatlipoca",
          "Tezcatlipoca",
          "Tezcatlipoca",
          "Tezcatlipoca",
          "Tezcatlipoca",
          "Tezcatlipoca",
          "Tezcatlipoca",
          "Tezcatlipoca",
          "Tezcatlipoca",
          "Tezcatlipoca",
          "Tezcatlipoca",
          "Tezcatlipoca",
          "Tezcatlipoca",
          "Tezcatlipoca",
          "Tezcatlipoca",
          "Tezcatlipoca",
          "Tezcatlipoca",
          "Tezcatlipoca",
          "Tezcatlipoca"
         ],
         "xaxis": "x",
         "y": [
          1,
          1,
          1,
          1,
          1,
          1,
          1,
          1,
          1,
          1,
          1,
          1,
          1,
          1,
          1,
          1,
          1,
          1,
          1,
          1,
          1,
          1,
          1,
          1,
          1,
          1,
          1,
          1,
          1,
          1,
          1,
          1,
          1,
          1,
          1,
          1,
          1,
          1,
          1,
          1,
          1,
          1,
          1,
          1,
          1,
          1,
          1,
          1,
          1,
          1,
          1,
          1,
          1,
          1,
          1,
          1,
          1,
          1,
          1,
          1,
          1,
          1,
          1,
          1,
          1,
          1,
          1,
          1,
          1,
          1,
          1,
          1,
          1,
          1,
          1,
          1,
          1,
          1,
          1,
          1,
          1,
          1,
          1,
          1,
          1,
          1,
          1,
          1,
          1,
          1,
          1,
          1,
          1,
          1,
          1,
          1,
          1,
          1,
          1,
          1,
          1,
          1,
          1,
          1,
          1,
          1,
          1,
          1,
          1,
          1,
          1,
          1,
          1,
          1,
          1,
          1,
          1,
          1,
          1,
          1,
          1,
          1,
          1,
          1,
          1,
          1,
          1,
          1,
          1,
          1,
          1,
          1,
          1,
          1,
          1,
          1,
          1,
          1,
          1,
          1,
          1,
          1,
          1,
          1,
          1,
          1,
          1,
          1,
          1,
          1,
          1,
          1,
          1,
          1,
          1,
          1,
          1,
          1,
          1,
          1,
          1,
          1,
          1,
          1,
          1,
          1,
          1,
          1,
          1,
          1,
          1,
          1,
          1,
          1,
          1,
          1,
          1,
          1,
          1,
          1,
          1,
          1,
          1,
          1,
          1,
          1,
          1,
          1,
          1,
          1,
          1,
          1,
          1,
          1,
          1,
          1,
          1,
          1,
          1,
          1,
          1,
          1,
          1,
          1,
          1,
          1,
          1,
          1,
          1,
          1,
          1,
          1,
          1,
          1,
          1,
          1,
          1,
          1,
          1,
          1,
          1,
          1,
          1,
          1,
          1,
          1,
          1,
          1,
          1,
          1,
          1,
          1,
          1,
          1,
          1,
          1,
          1,
          1,
          1,
          1,
          1,
          1,
          1,
          1,
          1,
          1,
          1,
          1,
          1,
          1,
          1,
          1,
          1,
          1,
          1,
          1,
          1,
          1,
          1,
          1,
          1,
          1,
          1,
          1,
          1,
          1,
          1,
          1,
          1,
          1,
          1,
          1,
          1,
          1,
          1,
          1,
          1,
          1,
          1,
          1,
          1,
          1,
          1,
          1,
          1,
          1,
          1,
          1,
          1,
          1,
          1,
          1,
          1,
          1,
          1,
          1,
          1,
          1,
          1,
          1,
          1,
          1,
          1,
          1,
          1,
          1,
          1,
          1,
          1,
          1,
          1,
          1,
          1,
          1,
          1,
          1,
          1,
          1,
          1,
          1,
          1,
          1,
          1,
          1,
          1,
          1,
          1,
          1,
          1,
          1,
          1,
          1,
          1,
          1,
          1,
          1,
          1,
          1,
          1,
          1,
          1,
          1,
          1,
          1,
          1,
          1,
          1,
          1,
          1,
          1,
          1,
          1,
          1,
          1,
          1,
          1,
          1,
          1,
          1,
          1,
          1,
          1,
          1,
          1,
          1,
          1,
          1,
          1,
          1,
          1,
          1,
          1,
          1,
          1,
          1,
          1,
          1,
          1,
          1,
          1,
          1,
          1,
          1,
          1,
          1,
          1,
          1,
          1,
          1,
          1,
          1,
          1,
          1,
          1,
          1,
          1,
          1,
          1,
          1,
          1,
          1,
          1,
          1,
          1,
          1,
          1,
          1,
          1,
          1,
          1,
          1,
          1,
          1,
          1,
          1,
          1,
          1,
          1,
          1,
          1,
          1,
          1,
          1,
          1,
          1,
          1,
          1,
          1,
          1,
          1,
          1,
          1,
          1,
          1,
          1,
          1,
          1,
          1,
          1,
          1,
          1,
          1,
          1,
          1,
          1,
          1,
          1,
          1,
          1,
          1,
          1,
          1,
          1,
          1,
          1,
          1,
          1,
          1,
          1,
          1,
          1,
          1,
          1,
          1,
          1,
          1,
          1,
          1,
          1,
          1,
          1,
          1,
          1,
          1,
          1,
          1,
          1,
          1,
          1,
          1,
          1,
          1,
          1,
          1,
          1,
          1,
          1,
          1,
          1,
          1,
          1,
          1,
          1,
          1,
          1,
          1,
          1,
          1,
          1,
          1,
          1,
          1,
          1,
          1,
          1,
          1,
          1,
          1,
          1,
          1,
          1,
          1,
          1,
          1,
          1,
          1,
          1,
          1,
          1,
          1,
          1,
          1,
          1,
          1,
          1,
          1,
          1,
          1,
          1,
          1,
          1,
          1,
          1,
          1,
          1,
          1,
          1,
          1,
          1,
          1,
          1,
          1,
          1,
          1,
          1,
          1,
          1,
          1,
          1,
          1,
          1,
          1,
          1,
          1,
          1,
          1,
          1,
          1,
          1,
          1,
          1,
          1,
          1,
          1,
          1,
          1,
          1,
          1,
          1,
          1,
          1,
          1,
          1,
          1,
          1,
          1,
          1,
          1,
          1,
          1,
          1,
          1,
          1,
          1,
          1,
          1,
          1,
          1,
          1,
          1,
          1,
          1,
          1,
          1,
          1,
          1,
          1,
          1,
          1,
          1,
          1,
          1,
          1,
          1,
          1,
          1,
          1,
          1,
          1,
          1,
          1,
          1,
          1,
          1,
          1,
          1,
          1,
          1,
          1,
          1,
          1,
          1,
          1,
          1,
          1,
          1,
          1,
          1,
          1,
          1,
          1,
          1,
          1,
          1,
          1,
          1,
          1,
          1,
          1,
          1,
          1,
          1,
          1,
          1,
          1,
          1,
          1,
          1,
          1,
          1,
          1,
          1,
          1,
          1,
          1,
          1,
          1,
          1,
          1,
          1,
          1,
          1,
          1,
          1,
          1,
          1,
          1,
          1,
          1,
          1,
          1,
          1,
          1,
          1,
          1,
          1,
          1,
          1,
          1,
          1,
          1,
          1,
          1,
          1,
          1,
          1,
          1,
          1,
          1,
          1,
          1,
          1,
          1,
          1,
          1,
          1,
          1,
          1,
          1,
          1,
          1,
          1,
          1,
          1,
          1,
          1,
          1,
          1,
          1,
          1,
          1,
          1,
          1,
          1,
          1,
          1,
          1,
          1,
          1,
          1,
          1,
          1,
          1,
          1,
          1,
          1,
          1,
          1,
          1,
          1,
          1,
          1,
          1,
          1,
          1,
          1,
          1,
          1,
          1,
          1,
          1,
          1,
          1,
          1,
          1,
          1,
          1,
          1,
          1,
          1,
          1,
          1,
          1,
          1,
          1,
          1,
          1,
          1,
          1,
          1,
          1,
          1,
          1,
          1,
          1,
          1,
          1,
          1,
          1,
          1,
          1,
          1,
          1,
          1,
          1,
          1,
          1,
          1,
          1,
          1,
          1,
          1,
          1,
          1,
          1,
          1,
          1
         ],
         "yaxis": "y"
        },
        {
         "alignmentgroup": "True",
         "hovertemplate": "Orbiting Body=Juptr<br>Limited Name=%{x}<br>count=%{y}<extra></extra>",
         "legendgroup": "Juptr",
         "marker": {
          "color": "#EF553B",
          "pattern": {
           "shape": ""
          }
         },
         "name": "Juptr",
         "offsetgroup": "Juptr",
         "orientation": "v",
         "showlegend": true,
         "textposition": "auto",
         "type": "bar",
         "x": [
          "Albert",
          "Albert",
          "Albert",
          "Albert",
          "Albert",
          "Albert",
          "Albert",
          "Albert",
          "Ganymed",
          "Ganymed",
          "Ganymed",
          "Betulia",
          "Betulia",
          "Betulia",
          "Betulia",
          "Betulia",
          "Betulia",
          "Quetzalcoatl",
          "Quetzalcoatl",
          "Quetzalcoatl",
          "Quetzalcoatl",
          "Quetzalcoatl",
          "Quetzalcoatl",
          "Quetzalcoatl",
          "Quetzalcoatl"
         ],
         "xaxis": "x",
         "y": [
          1,
          1,
          1,
          1,
          1,
          1,
          1,
          1,
          1,
          1,
          1,
          1,
          1,
          1,
          1,
          1,
          1,
          1,
          1,
          1,
          1,
          1,
          1,
          1,
          1
         ],
         "yaxis": "y"
        },
        {
         "alignmentgroup": "True",
         "hovertemplate": "Orbiting Body=Mars<br>Limited Name=%{x}<br>count=%{y}<extra></extra>",
         "legendgroup": "Mars",
         "marker": {
          "color": "#00cc96",
          "pattern": {
           "shape": ""
          }
         },
         "name": "Mars",
         "offsetgroup": "Mars",
         "orientation": "v",
         "showlegend": true,
         "textposition": "auto",
         "type": "bar",
         "x": [
          "Ganymed",
          "Ganymed",
          "Icarus",
          "Icarus",
          "Icarus",
          "Icarus",
          "Icarus",
          "Toro",
          "Apollo",
          "Apollo",
          "Apollo",
          "Antinous",
          "Antinous",
          "Cerberus",
          "Cerberus",
          "Cerberus",
          "Cerberus"
         ],
         "xaxis": "x",
         "y": [
          1,
          1,
          1,
          1,
          1,
          1,
          1,
          1,
          1,
          1,
          1,
          1,
          1,
          1,
          1,
          1,
          1
         ],
         "yaxis": "y"
        },
        {
         "alignmentgroup": "True",
         "hovertemplate": "Orbiting Body=Merc<br>Limited Name=%{x}<br>count=%{y}<extra></extra>",
         "legendgroup": "Merc",
         "marker": {
          "color": "#ab63fa",
          "pattern": {
           "shape": ""
          }
         },
         "name": "Merc",
         "offsetgroup": "Merc",
         "orientation": "v",
         "showlegend": true,
         "textposition": "auto",
         "type": "bar",
         "x": [
          "Icarus",
          "Icarus",
          "Icarus",
          "Icarus",
          "Icarus",
          "Icarus",
          "Icarus",
          "Icarus",
          "Icarus"
         ],
         "xaxis": "x",
         "y": [
          1,
          1,
          1,
          1,
          1,
          1,
          1,
          1,
          1
         ],
         "yaxis": "y"
        },
        {
         "alignmentgroup": "True",
         "hovertemplate": "Orbiting Body=Venus<br>Limited Name=%{x}<br>count=%{y}<extra></extra>",
         "legendgroup": "Venus",
         "marker": {
          "color": "#FFA15A",
          "pattern": {
           "shape": ""
          }
         },
         "name": "Venus",
         "offsetgroup": "Venus",
         "orientation": "v",
         "showlegend": true,
         "textposition": "auto",
         "type": "bar",
         "x": [
          "Icarus",
          "Icarus",
          "Icarus",
          "Icarus",
          "Icarus",
          "Icarus",
          "Icarus",
          "Icarus",
          "Icarus",
          "Icarus",
          "Icarus",
          "Icarus",
          "Icarus",
          "Icarus",
          "Icarus",
          "Icarus",
          "Icarus",
          "Icarus",
          "Toro",
          "Apollo",
          "Apollo",
          "Apollo",
          "Apollo",
          "Apollo",
          "Apollo",
          "Apollo",
          "Apollo",
          "Apollo",
          "Apollo",
          "Apollo",
          "Apollo",
          "Apollo",
          "Apollo",
          "Apollo",
          "Apollo",
          "Apollo",
          "Apollo",
          "Daedalus",
          "Daedalus",
          "Daedalus",
          "Daedalus",
          "Daedalus",
          "Daedalus",
          "Daedalus",
          "Daedalus",
          "Daedalus",
          "Daedalus",
          "Cerberus",
          "Cerberus",
          "Cerberus",
          "Cerberus",
          "Cerberus",
          "Cerberus",
          "Cerberus",
          "Cerberus",
          "Cerberus",
          "Cerberus",
          "Cerberus",
          "Cerberus",
          "Cerberus",
          "Cerberus",
          "Cerberus",
          "Cerberus",
          "Cerberus",
          "Cerberus",
          "Cerberus"
         ],
         "xaxis": "x",
         "y": [
          1,
          1,
          1,
          1,
          1,
          1,
          1,
          1,
          1,
          1,
          1,
          1,
          1,
          1,
          1,
          1,
          1,
          1,
          1,
          1,
          1,
          1,
          1,
          1,
          1,
          1,
          1,
          1,
          1,
          1,
          1,
          1,
          1,
          1,
          1,
          1,
          1,
          1,
          1,
          1,
          1,
          1,
          1,
          1,
          1,
          1,
          1,
          1,
          1,
          1,
          1,
          1,
          1,
          1,
          1,
          1,
          1,
          1,
          1,
          1,
          1,
          1,
          1,
          1,
          1,
          1
         ],
         "yaxis": "y"
        }
       ],
       "layout": {
        "barmode": "relative",
        "legend": {
         "title": {
          "text": "Orbiting Body"
         },
         "tracegroupgap": 0
        },
        "margin": {
         "t": 60
        },
        "template": {
         "data": {
          "bar": [
           {
            "error_x": {
             "color": "#2a3f5f"
            },
            "error_y": {
             "color": "#2a3f5f"
            },
            "marker": {
             "line": {
              "color": "#E5ECF6",
              "width": 0.5
             },
             "pattern": {
              "fillmode": "overlay",
              "size": 10,
              "solidity": 0.2
             }
            },
            "type": "bar"
           }
          ],
          "barpolar": [
           {
            "marker": {
             "line": {
              "color": "#E5ECF6",
              "width": 0.5
             },
             "pattern": {
              "fillmode": "overlay",
              "size": 10,
              "solidity": 0.2
             }
            },
            "type": "barpolar"
           }
          ],
          "carpet": [
           {
            "aaxis": {
             "endlinecolor": "#2a3f5f",
             "gridcolor": "white",
             "linecolor": "white",
             "minorgridcolor": "white",
             "startlinecolor": "#2a3f5f"
            },
            "baxis": {
             "endlinecolor": "#2a3f5f",
             "gridcolor": "white",
             "linecolor": "white",
             "minorgridcolor": "white",
             "startlinecolor": "#2a3f5f"
            },
            "type": "carpet"
           }
          ],
          "choropleth": [
           {
            "colorbar": {
             "outlinewidth": 0,
             "ticks": ""
            },
            "type": "choropleth"
           }
          ],
          "contour": [
           {
            "colorbar": {
             "outlinewidth": 0,
             "ticks": ""
            },
            "colorscale": [
             [
              0,
              "#0d0887"
             ],
             [
              0.1111111111111111,
              "#46039f"
             ],
             [
              0.2222222222222222,
              "#7201a8"
             ],
             [
              0.3333333333333333,
              "#9c179e"
             ],
             [
              0.4444444444444444,
              "#bd3786"
             ],
             [
              0.5555555555555556,
              "#d8576b"
             ],
             [
              0.6666666666666666,
              "#ed7953"
             ],
             [
              0.7777777777777778,
              "#fb9f3a"
             ],
             [
              0.8888888888888888,
              "#fdca26"
             ],
             [
              1,
              "#f0f921"
             ]
            ],
            "type": "contour"
           }
          ],
          "contourcarpet": [
           {
            "colorbar": {
             "outlinewidth": 0,
             "ticks": ""
            },
            "type": "contourcarpet"
           }
          ],
          "heatmap": [
           {
            "colorbar": {
             "outlinewidth": 0,
             "ticks": ""
            },
            "colorscale": [
             [
              0,
              "#0d0887"
             ],
             [
              0.1111111111111111,
              "#46039f"
             ],
             [
              0.2222222222222222,
              "#7201a8"
             ],
             [
              0.3333333333333333,
              "#9c179e"
             ],
             [
              0.4444444444444444,
              "#bd3786"
             ],
             [
              0.5555555555555556,
              "#d8576b"
             ],
             [
              0.6666666666666666,
              "#ed7953"
             ],
             [
              0.7777777777777778,
              "#fb9f3a"
             ],
             [
              0.8888888888888888,
              "#fdca26"
             ],
             [
              1,
              "#f0f921"
             ]
            ],
            "type": "heatmap"
           }
          ],
          "heatmapgl": [
           {
            "colorbar": {
             "outlinewidth": 0,
             "ticks": ""
            },
            "colorscale": [
             [
              0,
              "#0d0887"
             ],
             [
              0.1111111111111111,
              "#46039f"
             ],
             [
              0.2222222222222222,
              "#7201a8"
             ],
             [
              0.3333333333333333,
              "#9c179e"
             ],
             [
              0.4444444444444444,
              "#bd3786"
             ],
             [
              0.5555555555555556,
              "#d8576b"
             ],
             [
              0.6666666666666666,
              "#ed7953"
             ],
             [
              0.7777777777777778,
              "#fb9f3a"
             ],
             [
              0.8888888888888888,
              "#fdca26"
             ],
             [
              1,
              "#f0f921"
             ]
            ],
            "type": "heatmapgl"
           }
          ],
          "histogram": [
           {
            "marker": {
             "pattern": {
              "fillmode": "overlay",
              "size": 10,
              "solidity": 0.2
             }
            },
            "type": "histogram"
           }
          ],
          "histogram2d": [
           {
            "colorbar": {
             "outlinewidth": 0,
             "ticks": ""
            },
            "colorscale": [
             [
              0,
              "#0d0887"
             ],
             [
              0.1111111111111111,
              "#46039f"
             ],
             [
              0.2222222222222222,
              "#7201a8"
             ],
             [
              0.3333333333333333,
              "#9c179e"
             ],
             [
              0.4444444444444444,
              "#bd3786"
             ],
             [
              0.5555555555555556,
              "#d8576b"
             ],
             [
              0.6666666666666666,
              "#ed7953"
             ],
             [
              0.7777777777777778,
              "#fb9f3a"
             ],
             [
              0.8888888888888888,
              "#fdca26"
             ],
             [
              1,
              "#f0f921"
             ]
            ],
            "type": "histogram2d"
           }
          ],
          "histogram2dcontour": [
           {
            "colorbar": {
             "outlinewidth": 0,
             "ticks": ""
            },
            "colorscale": [
             [
              0,
              "#0d0887"
             ],
             [
              0.1111111111111111,
              "#46039f"
             ],
             [
              0.2222222222222222,
              "#7201a8"
             ],
             [
              0.3333333333333333,
              "#9c179e"
             ],
             [
              0.4444444444444444,
              "#bd3786"
             ],
             [
              0.5555555555555556,
              "#d8576b"
             ],
             [
              0.6666666666666666,
              "#ed7953"
             ],
             [
              0.7777777777777778,
              "#fb9f3a"
             ],
             [
              0.8888888888888888,
              "#fdca26"
             ],
             [
              1,
              "#f0f921"
             ]
            ],
            "type": "histogram2dcontour"
           }
          ],
          "mesh3d": [
           {
            "colorbar": {
             "outlinewidth": 0,
             "ticks": ""
            },
            "type": "mesh3d"
           }
          ],
          "parcoords": [
           {
            "line": {
             "colorbar": {
              "outlinewidth": 0,
              "ticks": ""
             }
            },
            "type": "parcoords"
           }
          ],
          "pie": [
           {
            "automargin": true,
            "type": "pie"
           }
          ],
          "scatter": [
           {
            "fillpattern": {
             "fillmode": "overlay",
             "size": 10,
             "solidity": 0.2
            },
            "type": "scatter"
           }
          ],
          "scatter3d": [
           {
            "line": {
             "colorbar": {
              "outlinewidth": 0,
              "ticks": ""
             }
            },
            "marker": {
             "colorbar": {
              "outlinewidth": 0,
              "ticks": ""
             }
            },
            "type": "scatter3d"
           }
          ],
          "scattercarpet": [
           {
            "marker": {
             "colorbar": {
              "outlinewidth": 0,
              "ticks": ""
             }
            },
            "type": "scattercarpet"
           }
          ],
          "scattergeo": [
           {
            "marker": {
             "colorbar": {
              "outlinewidth": 0,
              "ticks": ""
             }
            },
            "type": "scattergeo"
           }
          ],
          "scattergl": [
           {
            "marker": {
             "colorbar": {
              "outlinewidth": 0,
              "ticks": ""
             }
            },
            "type": "scattergl"
           }
          ],
          "scattermapbox": [
           {
            "marker": {
             "colorbar": {
              "outlinewidth": 0,
              "ticks": ""
             }
            },
            "type": "scattermapbox"
           }
          ],
          "scatterpolar": [
           {
            "marker": {
             "colorbar": {
              "outlinewidth": 0,
              "ticks": ""
             }
            },
            "type": "scatterpolar"
           }
          ],
          "scatterpolargl": [
           {
            "marker": {
             "colorbar": {
              "outlinewidth": 0,
              "ticks": ""
             }
            },
            "type": "scatterpolargl"
           }
          ],
          "scatterternary": [
           {
            "marker": {
             "colorbar": {
              "outlinewidth": 0,
              "ticks": ""
             }
            },
            "type": "scatterternary"
           }
          ],
          "surface": [
           {
            "colorbar": {
             "outlinewidth": 0,
             "ticks": ""
            },
            "colorscale": [
             [
              0,
              "#0d0887"
             ],
             [
              0.1111111111111111,
              "#46039f"
             ],
             [
              0.2222222222222222,
              "#7201a8"
             ],
             [
              0.3333333333333333,
              "#9c179e"
             ],
             [
              0.4444444444444444,
              "#bd3786"
             ],
             [
              0.5555555555555556,
              "#d8576b"
             ],
             [
              0.6666666666666666,
              "#ed7953"
             ],
             [
              0.7777777777777778,
              "#fb9f3a"
             ],
             [
              0.8888888888888888,
              "#fdca26"
             ],
             [
              1,
              "#f0f921"
             ]
            ],
            "type": "surface"
           }
          ],
          "table": [
           {
            "cells": {
             "fill": {
              "color": "#EBF0F8"
             },
             "line": {
              "color": "white"
             }
            },
            "header": {
             "fill": {
              "color": "#C8D4E3"
             },
             "line": {
              "color": "white"
             }
            },
            "type": "table"
           }
          ]
         },
         "layout": {
          "annotationdefaults": {
           "arrowcolor": "#2a3f5f",
           "arrowhead": 0,
           "arrowwidth": 1
          },
          "autotypenumbers": "strict",
          "coloraxis": {
           "colorbar": {
            "outlinewidth": 0,
            "ticks": ""
           }
          },
          "colorscale": {
           "diverging": [
            [
             0,
             "#8e0152"
            ],
            [
             0.1,
             "#c51b7d"
            ],
            [
             0.2,
             "#de77ae"
            ],
            [
             0.3,
             "#f1b6da"
            ],
            [
             0.4,
             "#fde0ef"
            ],
            [
             0.5,
             "#f7f7f7"
            ],
            [
             0.6,
             "#e6f5d0"
            ],
            [
             0.7,
             "#b8e186"
            ],
            [
             0.8,
             "#7fbc41"
            ],
            [
             0.9,
             "#4d9221"
            ],
            [
             1,
             "#276419"
            ]
           ],
           "sequential": [
            [
             0,
             "#0d0887"
            ],
            [
             0.1111111111111111,
             "#46039f"
            ],
            [
             0.2222222222222222,
             "#7201a8"
            ],
            [
             0.3333333333333333,
             "#9c179e"
            ],
            [
             0.4444444444444444,
             "#bd3786"
            ],
            [
             0.5555555555555556,
             "#d8576b"
            ],
            [
             0.6666666666666666,
             "#ed7953"
            ],
            [
             0.7777777777777778,
             "#fb9f3a"
            ],
            [
             0.8888888888888888,
             "#fdca26"
            ],
            [
             1,
             "#f0f921"
            ]
           ],
           "sequentialminus": [
            [
             0,
             "#0d0887"
            ],
            [
             0.1111111111111111,
             "#46039f"
            ],
            [
             0.2222222222222222,
             "#7201a8"
            ],
            [
             0.3333333333333333,
             "#9c179e"
            ],
            [
             0.4444444444444444,
             "#bd3786"
            ],
            [
             0.5555555555555556,
             "#d8576b"
            ],
            [
             0.6666666666666666,
             "#ed7953"
            ],
            [
             0.7777777777777778,
             "#fb9f3a"
            ],
            [
             0.8888888888888888,
             "#fdca26"
            ],
            [
             1,
             "#f0f921"
            ]
           ]
          },
          "colorway": [
           "#636efa",
           "#EF553B",
           "#00cc96",
           "#ab63fa",
           "#FFA15A",
           "#19d3f3",
           "#FF6692",
           "#B6E880",
           "#FF97FF",
           "#FECB52"
          ],
          "font": {
           "color": "#2a3f5f"
          },
          "geo": {
           "bgcolor": "white",
           "lakecolor": "white",
           "landcolor": "#E5ECF6",
           "showlakes": true,
           "showland": true,
           "subunitcolor": "white"
          },
          "hoverlabel": {
           "align": "left"
          },
          "hovermode": "closest",
          "mapbox": {
           "style": "light"
          },
          "paper_bgcolor": "white",
          "plot_bgcolor": "#E5ECF6",
          "polar": {
           "angularaxis": {
            "gridcolor": "white",
            "linecolor": "white",
            "ticks": ""
           },
           "bgcolor": "#E5ECF6",
           "radialaxis": {
            "gridcolor": "white",
            "linecolor": "white",
            "ticks": ""
           }
          },
          "scene": {
           "xaxis": {
            "backgroundcolor": "#E5ECF6",
            "gridcolor": "white",
            "gridwidth": 2,
            "linecolor": "white",
            "showbackground": true,
            "ticks": "",
            "zerolinecolor": "white"
           },
           "yaxis": {
            "backgroundcolor": "#E5ECF6",
            "gridcolor": "white",
            "gridwidth": 2,
            "linecolor": "white",
            "showbackground": true,
            "ticks": "",
            "zerolinecolor": "white"
           },
           "zaxis": {
            "backgroundcolor": "#E5ECF6",
            "gridcolor": "white",
            "gridwidth": 2,
            "linecolor": "white",
            "showbackground": true,
            "ticks": "",
            "zerolinecolor": "white"
           }
          },
          "shapedefaults": {
           "line": {
            "color": "#2a3f5f"
           }
          },
          "ternary": {
           "aaxis": {
            "gridcolor": "white",
            "linecolor": "white",
            "ticks": ""
           },
           "baxis": {
            "gridcolor": "white",
            "linecolor": "white",
            "ticks": ""
           },
           "bgcolor": "#E5ECF6",
           "caxis": {
            "gridcolor": "white",
            "linecolor": "white",
            "ticks": ""
           }
          },
          "title": {
           "x": 0.05
          },
          "xaxis": {
           "automargin": true,
           "gridcolor": "white",
           "linecolor": "white",
           "ticks": "",
           "title": {
            "standoff": 15
           },
           "zerolinecolor": "white",
           "zerolinewidth": 2
          },
          "yaxis": {
           "automargin": true,
           "gridcolor": "white",
           "linecolor": "white",
           "ticks": "",
           "title": {
            "standoff": 15
           },
           "zerolinecolor": "white",
           "zerolinewidth": 2
          }
         }
        },
        "xaxis": {
         "anchor": "y",
         "domain": [
          0,
          1
         ],
         "title": {
          "text": "Limited Name"
         }
        },
        "yaxis": {
         "anchor": "x",
         "domain": [
          0,
          1
         ],
         "title": {
          "text": "count"
         }
        }
       }
      }
     },
     "metadata": {},
     "output_type": "display_data"
    }
   ],
   "source": [
    "from plotly.express import bar\n",
    "bar(data_frame=df, x='Limited Name', color='Orbiting Body')"
   ]
  },
  {
   "cell_type": "markdown",
   "metadata": {},
   "source": [
    "we can see that most of the Near Earth Objects mostly or entirely orbit Earth."
   ]
  },
  {
   "cell_type": "code",
   "execution_count": 7,
   "metadata": {},
   "outputs": [
    {
     "data": {
      "application/vnd.plotly.v1+json": {
       "config": {
        "plotlyServerURL": "https://plot.ly"
       },
       "data": [
        {
         "alignmentgroup": "True",
         "bingroup": "x",
         "hovertemplate": "Limited Name=Albert<br>year=%{x}<br>count=%{y}<extra></extra>",
         "legendgroup": "Albert",
         "marker": {
          "color": "#636efa",
          "pattern": {
           "shape": ""
          }
         },
         "name": "Albert",
         "nbinsx": 124,
         "offsetgroup": "Albert",
         "orientation": "v",
         "showlegend": true,
         "type": "histogram",
         "x": [
          2003,
          2001,
          1971,
          1956,
          1941,
          1911,
          1909
         ],
         "xaxis": "x",
         "yaxis": "y"
        },
        {
         "alignmentgroup": "True",
         "bingroup": "x",
         "hovertemplate": "Limited Name=Alinda<br>year=%{x}<br>count=%{y}<extra></extra>",
         "legendgroup": "Alinda",
         "marker": {
          "color": "#EF553B",
          "pattern": {
           "shape": ""
          }
         },
         "name": "Alinda",
         "nbinsx": 124,
         "offsetgroup": "Alinda",
         "orientation": "v",
         "showlegend": true,
         "type": "histogram",
         "x": [
          1974,
          1922,
          1918,
          1914,
          1910,
          1970,
          1966,
          1977,
          1926
         ],
         "xaxis": "x",
         "yaxis": "y"
        },
        {
         "alignmentgroup": "True",
         "bingroup": "x",
         "hovertemplate": "Limited Name=Amor<br>year=%{x}<br>count=%{y}<extra></extra>",
         "legendgroup": "Amor",
         "marker": {
          "color": "#00cc96",
          "pattern": {
           "shape": ""
          }
         },
         "name": "Amor",
         "nbinsx": 124,
         "offsetgroup": "Amor",
         "orientation": "v",
         "showlegend": true,
         "type": "histogram",
         "x": [
          1900,
          1908,
          1916,
          1924,
          1932,
          1940,
          1956,
          1964,
          1972,
          1980,
          1988,
          1948
         ],
         "xaxis": "x",
         "yaxis": "y"
        },
        {
         "alignmentgroup": "True",
         "bingroup": "x",
         "hovertemplate": "Limited Name=Anteros<br>year=%{x}<br>count=%{y}<extra></extra>",
         "legendgroup": "Anteros",
         "marker": {
          "color": "#ab63fa",
          "pattern": {
           "shape": ""
          }
         },
         "name": "Anteros",
         "nbinsx": 124,
         "offsetgroup": "Anteros",
         "orientation": "v",
         "showlegend": true,
         "type": "histogram",
         "x": [
          1908,
          1913,
          2014,
          1908,
          2002,
          1997,
          1997,
          1985,
          1973,
          1961,
          2002,
          1937,
          1925,
          1949,
          1913
         ],
         "xaxis": "x",
         "yaxis": "y"
        },
        {
         "alignmentgroup": "True",
         "bingroup": "x",
         "hovertemplate": "Limited Name=Antinous<br>year=%{x}<br>count=%{y}<extra></extra>",
         "legendgroup": "Antinous",
         "marker": {
          "color": "#FFA15A",
          "pattern": {
           "shape": ""
          }
         },
         "name": "Antinous",
         "nbinsx": 124,
         "offsetgroup": "Antinous",
         "orientation": "v",
         "showlegend": true,
         "type": "histogram",
         "x": [
          1914,
          1931,
          1948,
          1907,
          1999,
          1982,
          1965,
          2016,
          1965
         ],
         "xaxis": "x",
         "yaxis": "y"
        },
        {
         "alignmentgroup": "True",
         "bingroup": "x",
         "hovertemplate": "Limited Name=Apollo<br>year=%{x}<br>count=%{y}<extra></extra>",
         "legendgroup": "Apollo",
         "marker": {
          "color": "#19d3f3",
          "pattern": {
           "shape": ""
          }
         },
         "name": "Apollo",
         "nbinsx": 124,
         "offsetgroup": "Apollo",
         "orientation": "v",
         "showlegend": true,
         "type": "histogram",
         "x": [
          1914,
          1911,
          1907,
          1905,
          2005,
          2014,
          1921,
          2021,
          2021,
          2023,
          2007,
          1923,
          1948,
          1930,
          1991,
          1989,
          1986,
          1982,
          1980,
          1973,
          1968,
          1966,
          1930,
          1964,
          1955,
          1950,
          1950,
          2003,
          1946,
          1941,
          1939,
          1932,
          1957,
          1996,
          1998
         ],
         "xaxis": "x",
         "yaxis": "y"
        },
        {
         "alignmentgroup": "True",
         "bingroup": "x",
         "hovertemplate": "Limited Name=Betulia<br>year=%{x}<br>count=%{y}<extra></extra>",
         "legendgroup": "Betulia",
         "marker": {
          "color": "#FF6692",
          "pattern": {
           "shape": ""
          }
         },
         "name": "Betulia",
         "nbinsx": 124,
         "offsetgroup": "Betulia",
         "orientation": "v",
         "showlegend": true,
         "type": "histogram",
         "x": [
          1989,
          2015,
          2002,
          1976,
          1965,
          1963,
          1937,
          1929,
          1950,
          1911,
          1924
         ],
         "xaxis": "x",
         "yaxis": "y"
        },
        {
         "alignmentgroup": "True",
         "bingroup": "x",
         "hovertemplate": "Limited Name=Boreas<br>year=%{x}<br>count=%{y}<extra></extra>",
         "legendgroup": "Boreas",
         "marker": {
          "color": "#B6E880",
          "pattern": {
           "shape": ""
          }
         },
         "name": "Boreas",
         "nbinsx": 124,
         "offsetgroup": "Boreas",
         "orientation": "v",
         "showlegend": true,
         "type": "histogram",
         "x": [
          1905,
          1929,
          1953,
          1977,
          2001
         ],
         "xaxis": "x",
         "yaxis": "y"
        },
        {
         "alignmentgroup": "True",
         "bingroup": "x",
         "hovertemplate": "Limited Name=Cerberus<br>year=%{x}<br>count=%{y}<extra></extra>",
         "legendgroup": "Cerberus",
         "marker": {
          "color": "#FF97FF",
          "pattern": {
           "shape": ""
          }
         },
         "name": "Cerberus",
         "nbinsx": 124,
         "offsetgroup": "Cerberus",
         "orientation": "v",
         "showlegend": true,
         "type": "histogram",
         "x": [
          1976,
          1989,
          1983,
          1982,
          1980,
          1974,
          1965,
          1972,
          1971,
          1970,
          1969,
          1991,
          1973,
          1992,
          2010,
          1998,
          2000,
          2001,
          2007,
          2008,
          2009,
          1964,
          2014,
          2016,
          2017,
          2018,
          2018,
          2019,
          2020,
          1995,
          1962,
          1961,
          1907,
          1931,
          1928,
          1927,
          1925,
          1919,
          1918,
          1934,
          1917,
          1915,
          1912,
          1910,
          1900,
          1905,
          1906,
          1916,
          1936,
          1937,
          1943,
          1955,
          1909,
          1953,
          1952,
          1954,
          1963,
          1949,
          1946,
          1945,
          1950,
          1908
         ],
         "xaxis": "x",
         "yaxis": "y"
        },
        {
         "alignmentgroup": "True",
         "bingroup": "x",
         "hovertemplate": "Limited Name=Cuyo<br>year=%{x}<br>count=%{y}<extra></extra>",
         "legendgroup": "Cuyo",
         "marker": {
          "color": "#FECB52",
          "pattern": {
           "shape": ""
          }
         },
         "name": "Cuyo",
         "nbinsx": 124,
         "offsetgroup": "Cuyo",
         "orientation": "v",
         "showlegend": true,
         "type": "histogram",
         "x": [
          1907,
          1926,
          1948,
          1967,
          1989,
          2008
         ],
         "xaxis": "x",
         "yaxis": "y"
        },
        {
         "alignmentgroup": "True",
         "bingroup": "x",
         "hovertemplate": "Limited Name=Daedalus<br>year=%{x}<br>count=%{y}<extra></extra>",
         "legendgroup": "Daedalus",
         "marker": {
          "color": "#636efa",
          "pattern": {
           "shape": ""
          }
         },
         "name": "Daedalus",
         "nbinsx": 124,
         "offsetgroup": "Daedalus",
         "orientation": "v",
         "showlegend": true,
         "type": "histogram",
         "x": [
          1992,
          2017,
          1991,
          1987,
          1985,
          1980,
          1978,
          1971,
          1964,
          1962,
          1957,
          2003,
          1950,
          1950,
          1948,
          1941,
          1934,
          1934,
          1932,
          1927,
          1925,
          1920,
          1918,
          1909,
          1909,
          1904,
          1902,
          2005,
          2008,
          2010,
          2015,
          2001,
          1955
         ],
         "xaxis": "x",
         "yaxis": "y"
        },
        {
         "alignmentgroup": "True",
         "bingroup": "x",
         "hovertemplate": "Limited Name=Eros<br>year=%{x}<br>count=%{y}<extra></extra>",
         "legendgroup": "Eros",
         "marker": {
          "color": "#EF553B",
          "pattern": {
           "shape": ""
          }
         },
         "name": "Eros",
         "nbinsx": 124,
         "offsetgroup": "Eros",
         "orientation": "v",
         "showlegend": true,
         "type": "histogram",
         "x": [
          1900,
          1988,
          2019,
          2012,
          2005,
          1981,
          1975,
          1968,
          1961,
          1938,
          1931,
          1944,
          1917,
          1907,
          1924
         ],
         "xaxis": "x",
         "yaxis": "y"
        },
        {
         "alignmentgroup": "True",
         "bingroup": "x",
         "hovertemplate": "Limited Name=Ganymed<br>year=%{x}<br>count=%{y}<extra></extra>",
         "legendgroup": "Ganymed",
         "marker": {
          "color": "#00cc96",
          "pattern": {
           "shape": ""
          }
         },
         "name": "Ganymed",
         "nbinsx": 124,
         "offsetgroup": "Ganymed",
         "orientation": "v",
         "showlegend": true,
         "type": "histogram",
         "x": [
          1998,
          1910,
          1911,
          1924,
          2011
         ],
         "xaxis": "x",
         "yaxis": "y"
        },
        {
         "alignmentgroup": "True",
         "bingroup": "x",
         "hovertemplate": "Limited Name=Geographos<br>year=%{x}<br>count=%{y}<extra></extra>",
         "legendgroup": "Geographos",
         "marker": {
          "color": "#ab63fa",
          "pattern": {
           "shape": ""
          }
         },
         "name": "Geographos",
         "nbinsx": 124,
         "offsetgroup": "Geographos",
         "orientation": "v",
         "showlegend": true,
         "type": "histogram",
         "x": [
          2001,
          2001,
          2008,
          2012,
          1994,
          2015,
          2019,
          1951,
          1908,
          1990,
          1987,
          1983,
          1976,
          1976,
          1969,
          1965,
          1951,
          1944,
          1958,
          1933,
          1901,
          1940,
          1962,
          1908,
          1915,
          1908,
          1922,
          1926,
          1933,
          1933,
          1919
         ],
         "xaxis": "x",
         "yaxis": "y"
        },
        {
         "alignmentgroup": "True",
         "bingroup": "x",
         "hovertemplate": "Limited Name=Icarus<br>year=%{x}<br>count=%{y}<extra></extra>",
         "legendgroup": "Icarus",
         "marker": {
          "color": "#FFA15A",
          "pattern": {
           "shape": ""
          }
         },
         "name": "Icarus",
         "nbinsx": 124,
         "offsetgroup": "Icarus",
         "orientation": "v",
         "showlegend": true,
         "type": "histogram",
         "x": [
          1977,
          1978,
          1914,
          1986,
          1986,
          1987,
          1977,
          1968,
          1987,
          1925,
          1928,
          1930,
          1931,
          1934,
          1939,
          1939,
          1940,
          1940,
          1943,
          1949,
          1949,
          1952,
          1953,
          1958,
          1959,
          1962,
          1965,
          1968,
          1972,
          1989,
          1981,
          1996,
          1990,
          1902,
          1906,
          1911,
          1912,
          1921,
          1915,
          2015,
          2019,
          2005,
          2006,
          2009,
          2000
         ],
         "xaxis": "x",
         "yaxis": "y"
        },
        {
         "alignmentgroup": "True",
         "bingroup": "x",
         "hovertemplate": "Limited Name=Ivar<br>year=%{x}<br>count=%{y}<extra></extra>",
         "legendgroup": "Ivar",
         "marker": {
          "color": "#19d3f3",
          "pattern": {
           "shape": ""
          }
         },
         "name": "Ivar",
         "nbinsx": 124,
         "offsetgroup": "Ivar",
         "orientation": "v",
         "showlegend": true,
         "type": "histogram",
         "x": [
          2018,
          2013,
          1901,
          1985,
          1962,
          1957,
          1934,
          1929,
          1906,
          1990
         ],
         "xaxis": "x",
         "yaxis": "y"
        },
        {
         "alignmentgroup": "True",
         "bingroup": "x",
         "hovertemplate": "Limited Name=Quetzalcoatl<br>year=%{x}<br>count=%{y}<extra></extra>",
         "legendgroup": "Quetzalcoatl",
         "marker": {
          "color": "#FF6692",
          "pattern": {
           "shape": ""
          }
         },
         "name": "Quetzalcoatl",
         "nbinsx": 124,
         "offsetgroup": "Quetzalcoatl",
         "orientation": "v",
         "showlegend": true,
         "type": "histogram",
         "x": [
          1939,
          1949,
          1951,
          1953,
          1957,
          1961,
          1985,
          1965,
          1969,
          1973,
          1977,
          1981,
          1927,
          1989,
          1962,
          1906
         ],
         "xaxis": "x",
         "yaxis": "y"
        },
        {
         "alignmentgroup": "True",
         "bingroup": "x",
         "hovertemplate": "Limited Name=Sisyphus<br>year=%{x}<br>count=%{y}<extra></extra>",
         "legendgroup": "Sisyphus",
         "marker": {
          "color": "#B6E880",
          "pattern": {
           "shape": ""
          }
         },
         "name": "Sisyphus",
         "nbinsx": 124,
         "offsetgroup": "Sisyphus",
         "orientation": "v",
         "showlegend": true,
         "type": "histogram",
         "x": [
          1946,
          2006,
          2019,
          1920,
          1933,
          1946,
          1912,
          1972,
          1985,
          1998,
          1959
         ],
         "xaxis": "x",
         "yaxis": "y"
        },
        {
         "alignmentgroup": "True",
         "bingroup": "x",
         "hovertemplate": "Limited Name=Tezcatlipoca<br>year=%{x}<br>count=%{y}<extra></extra>",
         "legendgroup": "Tezcatlipoca",
         "marker": {
          "color": "#FF97FF",
          "pattern": {
           "shape": ""
          }
         },
         "name": "Tezcatlipoca",
         "nbinsx": 124,
         "offsetgroup": "Tezcatlipoca",
         "orientation": "v",
         "showlegend": true,
         "type": "histogram",
         "x": [
          1968,
          1959,
          1959,
          1930,
          1921,
          1921,
          1997,
          2006,
          1997
         ],
         "xaxis": "x",
         "yaxis": "y"
        },
        {
         "alignmentgroup": "True",
         "bingroup": "x",
         "hovertemplate": "Limited Name=Toro<br>year=%{x}<br>count=%{y}<extra></extra>",
         "legendgroup": "Toro",
         "marker": {
          "color": "#FECB52",
          "pattern": {
           "shape": ""
          }
         },
         "name": "Toro",
         "nbinsx": 124,
         "offsetgroup": "Toro",
         "orientation": "v",
         "showlegend": true,
         "type": "histogram",
         "x": [
          1900,
          2016,
          2012,
          2008,
          2004,
          2000,
          1996,
          1992,
          1988,
          1984,
          1980,
          1976,
          1972,
          1968,
          1964,
          1960,
          1952,
          1948,
          1944,
          1940,
          1936,
          1932,
          1928,
          1924,
          1920,
          1916,
          1912,
          1908,
          1904,
          1956,
          2020
         ],
         "xaxis": "x",
         "yaxis": "y"
        }
       ],
       "layout": {
        "barmode": "relative",
        "legend": {
         "title": {
          "text": "Limited Name"
         },
         "tracegroupgap": 0
        },
        "margin": {
         "t": 60
        },
        "template": {
         "data": {
          "bar": [
           {
            "error_x": {
             "color": "#2a3f5f"
            },
            "error_y": {
             "color": "#2a3f5f"
            },
            "marker": {
             "line": {
              "color": "#E5ECF6",
              "width": 0.5
             },
             "pattern": {
              "fillmode": "overlay",
              "size": 10,
              "solidity": 0.2
             }
            },
            "type": "bar"
           }
          ],
          "barpolar": [
           {
            "marker": {
             "line": {
              "color": "#E5ECF6",
              "width": 0.5
             },
             "pattern": {
              "fillmode": "overlay",
              "size": 10,
              "solidity": 0.2
             }
            },
            "type": "barpolar"
           }
          ],
          "carpet": [
           {
            "aaxis": {
             "endlinecolor": "#2a3f5f",
             "gridcolor": "white",
             "linecolor": "white",
             "minorgridcolor": "white",
             "startlinecolor": "#2a3f5f"
            },
            "baxis": {
             "endlinecolor": "#2a3f5f",
             "gridcolor": "white",
             "linecolor": "white",
             "minorgridcolor": "white",
             "startlinecolor": "#2a3f5f"
            },
            "type": "carpet"
           }
          ],
          "choropleth": [
           {
            "colorbar": {
             "outlinewidth": 0,
             "ticks": ""
            },
            "type": "choropleth"
           }
          ],
          "contour": [
           {
            "colorbar": {
             "outlinewidth": 0,
             "ticks": ""
            },
            "colorscale": [
             [
              0,
              "#0d0887"
             ],
             [
              0.1111111111111111,
              "#46039f"
             ],
             [
              0.2222222222222222,
              "#7201a8"
             ],
             [
              0.3333333333333333,
              "#9c179e"
             ],
             [
              0.4444444444444444,
              "#bd3786"
             ],
             [
              0.5555555555555556,
              "#d8576b"
             ],
             [
              0.6666666666666666,
              "#ed7953"
             ],
             [
              0.7777777777777778,
              "#fb9f3a"
             ],
             [
              0.8888888888888888,
              "#fdca26"
             ],
             [
              1,
              "#f0f921"
             ]
            ],
            "type": "contour"
           }
          ],
          "contourcarpet": [
           {
            "colorbar": {
             "outlinewidth": 0,
             "ticks": ""
            },
            "type": "contourcarpet"
           }
          ],
          "heatmap": [
           {
            "colorbar": {
             "outlinewidth": 0,
             "ticks": ""
            },
            "colorscale": [
             [
              0,
              "#0d0887"
             ],
             [
              0.1111111111111111,
              "#46039f"
             ],
             [
              0.2222222222222222,
              "#7201a8"
             ],
             [
              0.3333333333333333,
              "#9c179e"
             ],
             [
              0.4444444444444444,
              "#bd3786"
             ],
             [
              0.5555555555555556,
              "#d8576b"
             ],
             [
              0.6666666666666666,
              "#ed7953"
             ],
             [
              0.7777777777777778,
              "#fb9f3a"
             ],
             [
              0.8888888888888888,
              "#fdca26"
             ],
             [
              1,
              "#f0f921"
             ]
            ],
            "type": "heatmap"
           }
          ],
          "heatmapgl": [
           {
            "colorbar": {
             "outlinewidth": 0,
             "ticks": ""
            },
            "colorscale": [
             [
              0,
              "#0d0887"
             ],
             [
              0.1111111111111111,
              "#46039f"
             ],
             [
              0.2222222222222222,
              "#7201a8"
             ],
             [
              0.3333333333333333,
              "#9c179e"
             ],
             [
              0.4444444444444444,
              "#bd3786"
             ],
             [
              0.5555555555555556,
              "#d8576b"
             ],
             [
              0.6666666666666666,
              "#ed7953"
             ],
             [
              0.7777777777777778,
              "#fb9f3a"
             ],
             [
              0.8888888888888888,
              "#fdca26"
             ],
             [
              1,
              "#f0f921"
             ]
            ],
            "type": "heatmapgl"
           }
          ],
          "histogram": [
           {
            "marker": {
             "pattern": {
              "fillmode": "overlay",
              "size": 10,
              "solidity": 0.2
             }
            },
            "type": "histogram"
           }
          ],
          "histogram2d": [
           {
            "colorbar": {
             "outlinewidth": 0,
             "ticks": ""
            },
            "colorscale": [
             [
              0,
              "#0d0887"
             ],
             [
              0.1111111111111111,
              "#46039f"
             ],
             [
              0.2222222222222222,
              "#7201a8"
             ],
             [
              0.3333333333333333,
              "#9c179e"
             ],
             [
              0.4444444444444444,
              "#bd3786"
             ],
             [
              0.5555555555555556,
              "#d8576b"
             ],
             [
              0.6666666666666666,
              "#ed7953"
             ],
             [
              0.7777777777777778,
              "#fb9f3a"
             ],
             [
              0.8888888888888888,
              "#fdca26"
             ],
             [
              1,
              "#f0f921"
             ]
            ],
            "type": "histogram2d"
           }
          ],
          "histogram2dcontour": [
           {
            "colorbar": {
             "outlinewidth": 0,
             "ticks": ""
            },
            "colorscale": [
             [
              0,
              "#0d0887"
             ],
             [
              0.1111111111111111,
              "#46039f"
             ],
             [
              0.2222222222222222,
              "#7201a8"
             ],
             [
              0.3333333333333333,
              "#9c179e"
             ],
             [
              0.4444444444444444,
              "#bd3786"
             ],
             [
              0.5555555555555556,
              "#d8576b"
             ],
             [
              0.6666666666666666,
              "#ed7953"
             ],
             [
              0.7777777777777778,
              "#fb9f3a"
             ],
             [
              0.8888888888888888,
              "#fdca26"
             ],
             [
              1,
              "#f0f921"
             ]
            ],
            "type": "histogram2dcontour"
           }
          ],
          "mesh3d": [
           {
            "colorbar": {
             "outlinewidth": 0,
             "ticks": ""
            },
            "type": "mesh3d"
           }
          ],
          "parcoords": [
           {
            "line": {
             "colorbar": {
              "outlinewidth": 0,
              "ticks": ""
             }
            },
            "type": "parcoords"
           }
          ],
          "pie": [
           {
            "automargin": true,
            "type": "pie"
           }
          ],
          "scatter": [
           {
            "fillpattern": {
             "fillmode": "overlay",
             "size": 10,
             "solidity": 0.2
            },
            "type": "scatter"
           }
          ],
          "scatter3d": [
           {
            "line": {
             "colorbar": {
              "outlinewidth": 0,
              "ticks": ""
             }
            },
            "marker": {
             "colorbar": {
              "outlinewidth": 0,
              "ticks": ""
             }
            },
            "type": "scatter3d"
           }
          ],
          "scattercarpet": [
           {
            "marker": {
             "colorbar": {
              "outlinewidth": 0,
              "ticks": ""
             }
            },
            "type": "scattercarpet"
           }
          ],
          "scattergeo": [
           {
            "marker": {
             "colorbar": {
              "outlinewidth": 0,
              "ticks": ""
             }
            },
            "type": "scattergeo"
           }
          ],
          "scattergl": [
           {
            "marker": {
             "colorbar": {
              "outlinewidth": 0,
              "ticks": ""
             }
            },
            "type": "scattergl"
           }
          ],
          "scattermapbox": [
           {
            "marker": {
             "colorbar": {
              "outlinewidth": 0,
              "ticks": ""
             }
            },
            "type": "scattermapbox"
           }
          ],
          "scatterpolar": [
           {
            "marker": {
             "colorbar": {
              "outlinewidth": 0,
              "ticks": ""
             }
            },
            "type": "scatterpolar"
           }
          ],
          "scatterpolargl": [
           {
            "marker": {
             "colorbar": {
              "outlinewidth": 0,
              "ticks": ""
             }
            },
            "type": "scatterpolargl"
           }
          ],
          "scatterternary": [
           {
            "marker": {
             "colorbar": {
              "outlinewidth": 0,
              "ticks": ""
             }
            },
            "type": "scatterternary"
           }
          ],
          "surface": [
           {
            "colorbar": {
             "outlinewidth": 0,
             "ticks": ""
            },
            "colorscale": [
             [
              0,
              "#0d0887"
             ],
             [
              0.1111111111111111,
              "#46039f"
             ],
             [
              0.2222222222222222,
              "#7201a8"
             ],
             [
              0.3333333333333333,
              "#9c179e"
             ],
             [
              0.4444444444444444,
              "#bd3786"
             ],
             [
              0.5555555555555556,
              "#d8576b"
             ],
             [
              0.6666666666666666,
              "#ed7953"
             ],
             [
              0.7777777777777778,
              "#fb9f3a"
             ],
             [
              0.8888888888888888,
              "#fdca26"
             ],
             [
              1,
              "#f0f921"
             ]
            ],
            "type": "surface"
           }
          ],
          "table": [
           {
            "cells": {
             "fill": {
              "color": "#EBF0F8"
             },
             "line": {
              "color": "white"
             }
            },
            "header": {
             "fill": {
              "color": "#C8D4E3"
             },
             "line": {
              "color": "white"
             }
            },
            "type": "table"
           }
          ]
         },
         "layout": {
          "annotationdefaults": {
           "arrowcolor": "#2a3f5f",
           "arrowhead": 0,
           "arrowwidth": 1
          },
          "autotypenumbers": "strict",
          "coloraxis": {
           "colorbar": {
            "outlinewidth": 0,
            "ticks": ""
           }
          },
          "colorscale": {
           "diverging": [
            [
             0,
             "#8e0152"
            ],
            [
             0.1,
             "#c51b7d"
            ],
            [
             0.2,
             "#de77ae"
            ],
            [
             0.3,
             "#f1b6da"
            ],
            [
             0.4,
             "#fde0ef"
            ],
            [
             0.5,
             "#f7f7f7"
            ],
            [
             0.6,
             "#e6f5d0"
            ],
            [
             0.7,
             "#b8e186"
            ],
            [
             0.8,
             "#7fbc41"
            ],
            [
             0.9,
             "#4d9221"
            ],
            [
             1,
             "#276419"
            ]
           ],
           "sequential": [
            [
             0,
             "#0d0887"
            ],
            [
             0.1111111111111111,
             "#46039f"
            ],
            [
             0.2222222222222222,
             "#7201a8"
            ],
            [
             0.3333333333333333,
             "#9c179e"
            ],
            [
             0.4444444444444444,
             "#bd3786"
            ],
            [
             0.5555555555555556,
             "#d8576b"
            ],
            [
             0.6666666666666666,
             "#ed7953"
            ],
            [
             0.7777777777777778,
             "#fb9f3a"
            ],
            [
             0.8888888888888888,
             "#fdca26"
            ],
            [
             1,
             "#f0f921"
            ]
           ],
           "sequentialminus": [
            [
             0,
             "#0d0887"
            ],
            [
             0.1111111111111111,
             "#46039f"
            ],
            [
             0.2222222222222222,
             "#7201a8"
            ],
            [
             0.3333333333333333,
             "#9c179e"
            ],
            [
             0.4444444444444444,
             "#bd3786"
            ],
            [
             0.5555555555555556,
             "#d8576b"
            ],
            [
             0.6666666666666666,
             "#ed7953"
            ],
            [
             0.7777777777777778,
             "#fb9f3a"
            ],
            [
             0.8888888888888888,
             "#fdca26"
            ],
            [
             1,
             "#f0f921"
            ]
           ]
          },
          "colorway": [
           "#636efa",
           "#EF553B",
           "#00cc96",
           "#ab63fa",
           "#FFA15A",
           "#19d3f3",
           "#FF6692",
           "#B6E880",
           "#FF97FF",
           "#FECB52"
          ],
          "font": {
           "color": "#2a3f5f"
          },
          "geo": {
           "bgcolor": "white",
           "lakecolor": "white",
           "landcolor": "#E5ECF6",
           "showlakes": true,
           "showland": true,
           "subunitcolor": "white"
          },
          "hoverlabel": {
           "align": "left"
          },
          "hovermode": "closest",
          "mapbox": {
           "style": "light"
          },
          "paper_bgcolor": "white",
          "plot_bgcolor": "#E5ECF6",
          "polar": {
           "angularaxis": {
            "gridcolor": "white",
            "linecolor": "white",
            "ticks": ""
           },
           "bgcolor": "#E5ECF6",
           "radialaxis": {
            "gridcolor": "white",
            "linecolor": "white",
            "ticks": ""
           }
          },
          "scene": {
           "xaxis": {
            "backgroundcolor": "#E5ECF6",
            "gridcolor": "white",
            "gridwidth": 2,
            "linecolor": "white",
            "showbackground": true,
            "ticks": "",
            "zerolinecolor": "white"
           },
           "yaxis": {
            "backgroundcolor": "#E5ECF6",
            "gridcolor": "white",
            "gridwidth": 2,
            "linecolor": "white",
            "showbackground": true,
            "ticks": "",
            "zerolinecolor": "white"
           },
           "zaxis": {
            "backgroundcolor": "#E5ECF6",
            "gridcolor": "white",
            "gridwidth": 2,
            "linecolor": "white",
            "showbackground": true,
            "ticks": "",
            "zerolinecolor": "white"
           }
          },
          "shapedefaults": {
           "line": {
            "color": "#2a3f5f"
           }
          },
          "ternary": {
           "aaxis": {
            "gridcolor": "white",
            "linecolor": "white",
            "ticks": ""
           },
           "baxis": {
            "gridcolor": "white",
            "linecolor": "white",
            "ticks": ""
           },
           "bgcolor": "#E5ECF6",
           "caxis": {
            "gridcolor": "white",
            "linecolor": "white",
            "ticks": ""
           }
          },
          "title": {
           "x": 0.05
          },
          "xaxis": {
           "automargin": true,
           "gridcolor": "white",
           "linecolor": "white",
           "ticks": "",
           "title": {
            "standoff": 15
           },
           "zerolinecolor": "white",
           "zerolinewidth": 2
          },
          "yaxis": {
           "automargin": true,
           "gridcolor": "white",
           "linecolor": "white",
           "ticks": "",
           "title": {
            "standoff": 15
           },
           "zerolinecolor": "white",
           "zerolinewidth": 2
          }
         }
        },
        "xaxis": {
         "anchor": "y",
         "domain": [
          0,
          1
         ],
         "title": {
          "text": "year"
         }
        },
        "yaxis": {
         "anchor": "x",
         "domain": [
          0,
          1
         ],
         "title": {
          "text": "count"
         }
        }
       }
      }
     },
     "metadata": {},
     "output_type": "display_data"
    }
   ],
   "source": [
    "from plotly.express import histogram\n",
    "\n",
    "histogram(data_frame=df[df['year'] <2024].sort_values(by='Limited Name'), x='year', color='Limited Name', nbins=124).show()\n"
   ]
  },
  {
   "cell_type": "markdown",
   "metadata": {},
   "source": [
    "The first histogram visualizes the years of close approaches of NEOs. We have filtered the data to include only NEOs with close approach years before 2024. Each bar in the histogram represents the number of NEOs with close approaches in a specific year."
   ]
  },
  {
   "cell_type": "code",
   "execution_count": 8,
   "metadata": {},
   "outputs": [
    {
     "data": {
      "application/vnd.plotly.v1+json": {
       "config": {
        "plotlyServerURL": "https://plot.ly"
       },
       "data": [
        {
         "alignmentgroup": "True",
         "bingroup": "x",
         "hovertemplate": "Is Potentially Hazardous=False<br>year=%{x}<br>count=%{y}<extra></extra>",
         "legendgroup": "False",
         "marker": {
          "color": "#636efa",
          "pattern": {
           "shape": ""
          }
         },
         "name": "False",
         "nbinsx": 124,
         "offsetgroup": "False",
         "orientation": "v",
         "showlegend": true,
         "type": "histogram",
         "x": [
          2003,
          2001,
          1971,
          1956,
          1941,
          1911,
          1909,
          1974,
          1922,
          1918,
          1914,
          1910,
          1970,
          1966,
          1977,
          1926,
          1900,
          1908,
          1916,
          1924,
          1932,
          1940,
          1956,
          1964,
          1972,
          1980,
          1988,
          1948,
          1908,
          1913,
          2014,
          1908,
          2002,
          1997,
          1997,
          1985,
          1973,
          1961,
          2002,
          1937,
          1925,
          1949,
          1913,
          1914,
          1931,
          1948,
          1907,
          1999,
          1982,
          1965,
          2016,
          1965,
          1989,
          2015,
          2002,
          1976,
          1965,
          1963,
          1937,
          1929,
          1950,
          1911,
          1924,
          1905,
          1929,
          1953,
          1977,
          2001,
          1976,
          1989,
          1983,
          1982,
          1980,
          1974,
          1965,
          1972,
          1971,
          1970,
          1969,
          1991,
          1973,
          1992,
          2010,
          1998,
          2000,
          2001,
          2007,
          2008,
          2009,
          1964,
          2014,
          2016,
          2017,
          2018,
          2018,
          2019,
          2020,
          1995,
          1962,
          1961,
          1907,
          1931,
          1928,
          1927,
          1925,
          1919,
          1918,
          1934,
          1917,
          1915,
          1912,
          1910,
          1900,
          1905,
          1906,
          1916,
          1936,
          1937,
          1943,
          1955,
          1909,
          1953,
          1952,
          1954,
          1963,
          1949,
          1946,
          1945,
          1950,
          1908,
          1907,
          1926,
          1948,
          1967,
          1989,
          2008,
          1992,
          2017,
          1991,
          1987,
          1985,
          1980,
          1978,
          1971,
          1964,
          1962,
          1957,
          2003,
          1950,
          1950,
          1948,
          1941,
          1934,
          1934,
          1932,
          1927,
          1925,
          1920,
          1918,
          1909,
          1909,
          1904,
          1902,
          2005,
          2008,
          2010,
          2015,
          2001,
          1955,
          1900,
          1988,
          2019,
          2012,
          2005,
          1981,
          1975,
          1968,
          1961,
          1938,
          1931,
          1944,
          1917,
          1907,
          1924,
          1998,
          1910,
          1911,
          1924,
          2011,
          2018,
          2013,
          1901,
          1985,
          1962,
          1957,
          1934,
          1929,
          1906,
          1990,
          1939,
          1949,
          1951,
          1953,
          1957,
          1961,
          1985,
          1965,
          1969,
          1973,
          1977,
          1981,
          1927,
          1989,
          1962,
          1906,
          1946,
          2006,
          2019,
          1920,
          1933,
          1946,
          1912,
          1972,
          1985,
          1998,
          1959,
          1968,
          1959,
          1959,
          1930,
          1921,
          1921,
          1997,
          2006,
          1997,
          1900,
          2016,
          2012,
          2008,
          2004,
          2000,
          1996,
          1992,
          1988,
          1984,
          1980,
          1976,
          1972,
          1968,
          1964,
          1960,
          1952,
          1948,
          1944,
          1940,
          1936,
          1932,
          1928,
          1924,
          1920,
          1916,
          1912,
          1908,
          1904,
          1956,
          2020
         ],
         "xaxis": "x",
         "yaxis": "y"
        },
        {
         "alignmentgroup": "True",
         "bingroup": "x",
         "hovertemplate": "Is Potentially Hazardous=True<br>year=%{x}<br>count=%{y}<extra></extra>",
         "legendgroup": "True",
         "marker": {
          "color": "#EF553B",
          "pattern": {
           "shape": ""
          }
         },
         "name": "True",
         "nbinsx": 124,
         "offsetgroup": "True",
         "orientation": "v",
         "showlegend": true,
         "type": "histogram",
         "x": [
          1914,
          1911,
          1907,
          1905,
          2005,
          2014,
          1921,
          2021,
          2021,
          2023,
          2007,
          1923,
          1948,
          1930,
          1991,
          1989,
          1986,
          1982,
          1980,
          1973,
          1968,
          1966,
          1930,
          1964,
          1955,
          1950,
          1950,
          2003,
          1946,
          1941,
          1939,
          1932,
          1957,
          1996,
          1998,
          2001,
          2001,
          2008,
          2012,
          1994,
          2015,
          2019,
          1951,
          1908,
          1990,
          1987,
          1983,
          1976,
          1976,
          1969,
          1965,
          1951,
          1944,
          1958,
          1933,
          1901,
          1940,
          1962,
          1908,
          1915,
          1908,
          1922,
          1926,
          1933,
          1933,
          1919,
          1977,
          1978,
          1914,
          1986,
          1986,
          1987,
          1977,
          1968,
          1987,
          1925,
          1928,
          1930,
          1931,
          1934,
          1939,
          1939,
          1940,
          1940,
          1943,
          1949,
          1949,
          1952,
          1953,
          1958,
          1959,
          1962,
          1965,
          1968,
          1972,
          1989,
          1981,
          1996,
          1990,
          1902,
          1906,
          1911,
          1912,
          1921,
          1915,
          2015,
          2019,
          2005,
          2006,
          2009,
          2000
         ],
         "xaxis": "x",
         "yaxis": "y"
        }
       ],
       "layout": {
        "barmode": "relative",
        "legend": {
         "title": {
          "text": "Is Potentially Hazardous"
         },
         "tracegroupgap": 0
        },
        "margin": {
         "t": 60
        },
        "template": {
         "data": {
          "bar": [
           {
            "error_x": {
             "color": "#2a3f5f"
            },
            "error_y": {
             "color": "#2a3f5f"
            },
            "marker": {
             "line": {
              "color": "#E5ECF6",
              "width": 0.5
             },
             "pattern": {
              "fillmode": "overlay",
              "size": 10,
              "solidity": 0.2
             }
            },
            "type": "bar"
           }
          ],
          "barpolar": [
           {
            "marker": {
             "line": {
              "color": "#E5ECF6",
              "width": 0.5
             },
             "pattern": {
              "fillmode": "overlay",
              "size": 10,
              "solidity": 0.2
             }
            },
            "type": "barpolar"
           }
          ],
          "carpet": [
           {
            "aaxis": {
             "endlinecolor": "#2a3f5f",
             "gridcolor": "white",
             "linecolor": "white",
             "minorgridcolor": "white",
             "startlinecolor": "#2a3f5f"
            },
            "baxis": {
             "endlinecolor": "#2a3f5f",
             "gridcolor": "white",
             "linecolor": "white",
             "minorgridcolor": "white",
             "startlinecolor": "#2a3f5f"
            },
            "type": "carpet"
           }
          ],
          "choropleth": [
           {
            "colorbar": {
             "outlinewidth": 0,
             "ticks": ""
            },
            "type": "choropleth"
           }
          ],
          "contour": [
           {
            "colorbar": {
             "outlinewidth": 0,
             "ticks": ""
            },
            "colorscale": [
             [
              0,
              "#0d0887"
             ],
             [
              0.1111111111111111,
              "#46039f"
             ],
             [
              0.2222222222222222,
              "#7201a8"
             ],
             [
              0.3333333333333333,
              "#9c179e"
             ],
             [
              0.4444444444444444,
              "#bd3786"
             ],
             [
              0.5555555555555556,
              "#d8576b"
             ],
             [
              0.6666666666666666,
              "#ed7953"
             ],
             [
              0.7777777777777778,
              "#fb9f3a"
             ],
             [
              0.8888888888888888,
              "#fdca26"
             ],
             [
              1,
              "#f0f921"
             ]
            ],
            "type": "contour"
           }
          ],
          "contourcarpet": [
           {
            "colorbar": {
             "outlinewidth": 0,
             "ticks": ""
            },
            "type": "contourcarpet"
           }
          ],
          "heatmap": [
           {
            "colorbar": {
             "outlinewidth": 0,
             "ticks": ""
            },
            "colorscale": [
             [
              0,
              "#0d0887"
             ],
             [
              0.1111111111111111,
              "#46039f"
             ],
             [
              0.2222222222222222,
              "#7201a8"
             ],
             [
              0.3333333333333333,
              "#9c179e"
             ],
             [
              0.4444444444444444,
              "#bd3786"
             ],
             [
              0.5555555555555556,
              "#d8576b"
             ],
             [
              0.6666666666666666,
              "#ed7953"
             ],
             [
              0.7777777777777778,
              "#fb9f3a"
             ],
             [
              0.8888888888888888,
              "#fdca26"
             ],
             [
              1,
              "#f0f921"
             ]
            ],
            "type": "heatmap"
           }
          ],
          "heatmapgl": [
           {
            "colorbar": {
             "outlinewidth": 0,
             "ticks": ""
            },
            "colorscale": [
             [
              0,
              "#0d0887"
             ],
             [
              0.1111111111111111,
              "#46039f"
             ],
             [
              0.2222222222222222,
              "#7201a8"
             ],
             [
              0.3333333333333333,
              "#9c179e"
             ],
             [
              0.4444444444444444,
              "#bd3786"
             ],
             [
              0.5555555555555556,
              "#d8576b"
             ],
             [
              0.6666666666666666,
              "#ed7953"
             ],
             [
              0.7777777777777778,
              "#fb9f3a"
             ],
             [
              0.8888888888888888,
              "#fdca26"
             ],
             [
              1,
              "#f0f921"
             ]
            ],
            "type": "heatmapgl"
           }
          ],
          "histogram": [
           {
            "marker": {
             "pattern": {
              "fillmode": "overlay",
              "size": 10,
              "solidity": 0.2
             }
            },
            "type": "histogram"
           }
          ],
          "histogram2d": [
           {
            "colorbar": {
             "outlinewidth": 0,
             "ticks": ""
            },
            "colorscale": [
             [
              0,
              "#0d0887"
             ],
             [
              0.1111111111111111,
              "#46039f"
             ],
             [
              0.2222222222222222,
              "#7201a8"
             ],
             [
              0.3333333333333333,
              "#9c179e"
             ],
             [
              0.4444444444444444,
              "#bd3786"
             ],
             [
              0.5555555555555556,
              "#d8576b"
             ],
             [
              0.6666666666666666,
              "#ed7953"
             ],
             [
              0.7777777777777778,
              "#fb9f3a"
             ],
             [
              0.8888888888888888,
              "#fdca26"
             ],
             [
              1,
              "#f0f921"
             ]
            ],
            "type": "histogram2d"
           }
          ],
          "histogram2dcontour": [
           {
            "colorbar": {
             "outlinewidth": 0,
             "ticks": ""
            },
            "colorscale": [
             [
              0,
              "#0d0887"
             ],
             [
              0.1111111111111111,
              "#46039f"
             ],
             [
              0.2222222222222222,
              "#7201a8"
             ],
             [
              0.3333333333333333,
              "#9c179e"
             ],
             [
              0.4444444444444444,
              "#bd3786"
             ],
             [
              0.5555555555555556,
              "#d8576b"
             ],
             [
              0.6666666666666666,
              "#ed7953"
             ],
             [
              0.7777777777777778,
              "#fb9f3a"
             ],
             [
              0.8888888888888888,
              "#fdca26"
             ],
             [
              1,
              "#f0f921"
             ]
            ],
            "type": "histogram2dcontour"
           }
          ],
          "mesh3d": [
           {
            "colorbar": {
             "outlinewidth": 0,
             "ticks": ""
            },
            "type": "mesh3d"
           }
          ],
          "parcoords": [
           {
            "line": {
             "colorbar": {
              "outlinewidth": 0,
              "ticks": ""
             }
            },
            "type": "parcoords"
           }
          ],
          "pie": [
           {
            "automargin": true,
            "type": "pie"
           }
          ],
          "scatter": [
           {
            "fillpattern": {
             "fillmode": "overlay",
             "size": 10,
             "solidity": 0.2
            },
            "type": "scatter"
           }
          ],
          "scatter3d": [
           {
            "line": {
             "colorbar": {
              "outlinewidth": 0,
              "ticks": ""
             }
            },
            "marker": {
             "colorbar": {
              "outlinewidth": 0,
              "ticks": ""
             }
            },
            "type": "scatter3d"
           }
          ],
          "scattercarpet": [
           {
            "marker": {
             "colorbar": {
              "outlinewidth": 0,
              "ticks": ""
             }
            },
            "type": "scattercarpet"
           }
          ],
          "scattergeo": [
           {
            "marker": {
             "colorbar": {
              "outlinewidth": 0,
              "ticks": ""
             }
            },
            "type": "scattergeo"
           }
          ],
          "scattergl": [
           {
            "marker": {
             "colorbar": {
              "outlinewidth": 0,
              "ticks": ""
             }
            },
            "type": "scattergl"
           }
          ],
          "scattermapbox": [
           {
            "marker": {
             "colorbar": {
              "outlinewidth": 0,
              "ticks": ""
             }
            },
            "type": "scattermapbox"
           }
          ],
          "scatterpolar": [
           {
            "marker": {
             "colorbar": {
              "outlinewidth": 0,
              "ticks": ""
             }
            },
            "type": "scatterpolar"
           }
          ],
          "scatterpolargl": [
           {
            "marker": {
             "colorbar": {
              "outlinewidth": 0,
              "ticks": ""
             }
            },
            "type": "scatterpolargl"
           }
          ],
          "scatterternary": [
           {
            "marker": {
             "colorbar": {
              "outlinewidth": 0,
              "ticks": ""
             }
            },
            "type": "scatterternary"
           }
          ],
          "surface": [
           {
            "colorbar": {
             "outlinewidth": 0,
             "ticks": ""
            },
            "colorscale": [
             [
              0,
              "#0d0887"
             ],
             [
              0.1111111111111111,
              "#46039f"
             ],
             [
              0.2222222222222222,
              "#7201a8"
             ],
             [
              0.3333333333333333,
              "#9c179e"
             ],
             [
              0.4444444444444444,
              "#bd3786"
             ],
             [
              0.5555555555555556,
              "#d8576b"
             ],
             [
              0.6666666666666666,
              "#ed7953"
             ],
             [
              0.7777777777777778,
              "#fb9f3a"
             ],
             [
              0.8888888888888888,
              "#fdca26"
             ],
             [
              1,
              "#f0f921"
             ]
            ],
            "type": "surface"
           }
          ],
          "table": [
           {
            "cells": {
             "fill": {
              "color": "#EBF0F8"
             },
             "line": {
              "color": "white"
             }
            },
            "header": {
             "fill": {
              "color": "#C8D4E3"
             },
             "line": {
              "color": "white"
             }
            },
            "type": "table"
           }
          ]
         },
         "layout": {
          "annotationdefaults": {
           "arrowcolor": "#2a3f5f",
           "arrowhead": 0,
           "arrowwidth": 1
          },
          "autotypenumbers": "strict",
          "coloraxis": {
           "colorbar": {
            "outlinewidth": 0,
            "ticks": ""
           }
          },
          "colorscale": {
           "diverging": [
            [
             0,
             "#8e0152"
            ],
            [
             0.1,
             "#c51b7d"
            ],
            [
             0.2,
             "#de77ae"
            ],
            [
             0.3,
             "#f1b6da"
            ],
            [
             0.4,
             "#fde0ef"
            ],
            [
             0.5,
             "#f7f7f7"
            ],
            [
             0.6,
             "#e6f5d0"
            ],
            [
             0.7,
             "#b8e186"
            ],
            [
             0.8,
             "#7fbc41"
            ],
            [
             0.9,
             "#4d9221"
            ],
            [
             1,
             "#276419"
            ]
           ],
           "sequential": [
            [
             0,
             "#0d0887"
            ],
            [
             0.1111111111111111,
             "#46039f"
            ],
            [
             0.2222222222222222,
             "#7201a8"
            ],
            [
             0.3333333333333333,
             "#9c179e"
            ],
            [
             0.4444444444444444,
             "#bd3786"
            ],
            [
             0.5555555555555556,
             "#d8576b"
            ],
            [
             0.6666666666666666,
             "#ed7953"
            ],
            [
             0.7777777777777778,
             "#fb9f3a"
            ],
            [
             0.8888888888888888,
             "#fdca26"
            ],
            [
             1,
             "#f0f921"
            ]
           ],
           "sequentialminus": [
            [
             0,
             "#0d0887"
            ],
            [
             0.1111111111111111,
             "#46039f"
            ],
            [
             0.2222222222222222,
             "#7201a8"
            ],
            [
             0.3333333333333333,
             "#9c179e"
            ],
            [
             0.4444444444444444,
             "#bd3786"
            ],
            [
             0.5555555555555556,
             "#d8576b"
            ],
            [
             0.6666666666666666,
             "#ed7953"
            ],
            [
             0.7777777777777778,
             "#fb9f3a"
            ],
            [
             0.8888888888888888,
             "#fdca26"
            ],
            [
             1,
             "#f0f921"
            ]
           ]
          },
          "colorway": [
           "#636efa",
           "#EF553B",
           "#00cc96",
           "#ab63fa",
           "#FFA15A",
           "#19d3f3",
           "#FF6692",
           "#B6E880",
           "#FF97FF",
           "#FECB52"
          ],
          "font": {
           "color": "#2a3f5f"
          },
          "geo": {
           "bgcolor": "white",
           "lakecolor": "white",
           "landcolor": "#E5ECF6",
           "showlakes": true,
           "showland": true,
           "subunitcolor": "white"
          },
          "hoverlabel": {
           "align": "left"
          },
          "hovermode": "closest",
          "mapbox": {
           "style": "light"
          },
          "paper_bgcolor": "white",
          "plot_bgcolor": "#E5ECF6",
          "polar": {
           "angularaxis": {
            "gridcolor": "white",
            "linecolor": "white",
            "ticks": ""
           },
           "bgcolor": "#E5ECF6",
           "radialaxis": {
            "gridcolor": "white",
            "linecolor": "white",
            "ticks": ""
           }
          },
          "scene": {
           "xaxis": {
            "backgroundcolor": "#E5ECF6",
            "gridcolor": "white",
            "gridwidth": 2,
            "linecolor": "white",
            "showbackground": true,
            "ticks": "",
            "zerolinecolor": "white"
           },
           "yaxis": {
            "backgroundcolor": "#E5ECF6",
            "gridcolor": "white",
            "gridwidth": 2,
            "linecolor": "white",
            "showbackground": true,
            "ticks": "",
            "zerolinecolor": "white"
           },
           "zaxis": {
            "backgroundcolor": "#E5ECF6",
            "gridcolor": "white",
            "gridwidth": 2,
            "linecolor": "white",
            "showbackground": true,
            "ticks": "",
            "zerolinecolor": "white"
           }
          },
          "shapedefaults": {
           "line": {
            "color": "#2a3f5f"
           }
          },
          "ternary": {
           "aaxis": {
            "gridcolor": "white",
            "linecolor": "white",
            "ticks": ""
           },
           "baxis": {
            "gridcolor": "white",
            "linecolor": "white",
            "ticks": ""
           },
           "bgcolor": "#E5ECF6",
           "caxis": {
            "gridcolor": "white",
            "linecolor": "white",
            "ticks": ""
           }
          },
          "title": {
           "x": 0.05
          },
          "xaxis": {
           "automargin": true,
           "gridcolor": "white",
           "linecolor": "white",
           "ticks": "",
           "title": {
            "standoff": 15
           },
           "zerolinecolor": "white",
           "zerolinewidth": 2
          },
          "yaxis": {
           "automargin": true,
           "gridcolor": "white",
           "linecolor": "white",
           "ticks": "",
           "title": {
            "standoff": 15
           },
           "zerolinecolor": "white",
           "zerolinewidth": 2
          }
         }
        },
        "xaxis": {
         "anchor": "y",
         "domain": [
          0,
          1
         ],
         "title": {
          "text": "year"
         }
        },
        "yaxis": {
         "anchor": "x",
         "domain": [
          0,
          1
         ],
         "title": {
          "text": "count"
         }
        }
       }
      }
     },
     "metadata": {},
     "output_type": "display_data"
    }
   ],
   "source": [
    "histogram(data_frame=df[df['year'] <2024].sort_values(by='Limited Name'), x='year', color='Is Potentially Hazardous', nbins=124).show()"
   ]
  },
  {
   "cell_type": "markdown",
   "metadata": {},
   "source": [
    "The second histogram provides insights into the hazardous nature of NEOs. We have again filtered the data to include only NEOs with close approach years before 2024. This time, we've categorized NEOs into two groups: potentially hazardous and non-hazardous. The histogram shows the distribution of these categories over the years, allowing us to observe patterns in hazardous NEOs."
   ]
  },
  {
   "cell_type": "code",
   "execution_count": 9,
   "metadata": {},
   "outputs": [],
   "source": [
    "from sklearn.ensemble import RandomForestClassifier\n",
    "from sklearn.model_selection import train_test_split\n",
    "from sklearn.metrics import accuracy_score\n",
    "import matplotlib.pyplot as plt"
   ]
  },
  {
   "cell_type": "markdown",
   "metadata": {},
   "source": [
    "\n",
    "In this code, the dataset (df) is being prepared for a machine learning task. Features (X) are defined by dropping specific columns from the dataset, and the target variable (y) is set to the column \"Is Potentially Hazardous.\" "
   ]
  },
  {
   "cell_type": "code",
   "execution_count": 10,
   "metadata": {},
   "outputs": [],
   "source": [
    "\n",
    "\n",
    "X = df[['Absolute Magnitude (H)', 'Min Diameter (km)', 'Relative Velocity (km/s)', 'year']]\n",
    "y = df['Is Potentially Hazardous']\n"
   ]
  },
  {
   "cell_type": "markdown",
   "metadata": {},
   "source": [
    "This code demonstrates the process of building and evaluating a machine learning model using a RandomForestClassifier. The steps are as follows:\n",
    "\n",
    "1. **Split Data:** The dataset is divided into training and test sets, which are essential for training and evaluating the model's performance.\n",
    "\n",
    "2. **Train Model:** A Random Forest classifier is created and trained using the training data.\n",
    "\n",
    "3. **Predict and Evaluate:** The trained model is used to make predictions on the test data, and its performance is evaluated.\n",
    "\n",
    "4. **Accuracy Calculation:** The code calculates the accuracy of the model's predictions as the evaluation metric."
   ]
  },
  {
   "cell_type": "code",
   "execution_count": 11,
   "metadata": {},
   "outputs": [],
   "source": [
    "\n",
    "# Step 1: Split your data into a training set and a test set\n",
    "from sklearn.model_selection import train_test_split\n",
    "X_train, X_test, y_train, y_test = train_test_split(X, y, test_size=0.2, random_state=42)\n",
    "\n",
    "# Step 2: Train your RandomForestClassifier on the training data\n",
    "clf = RandomForestClassifier(max_depth=2, random_state=0)\n",
    "clf.fit(X_train, y_train)\n",
    "\n",
    "# Step 3: Use the test data to predict and evaluate the model\n",
    "y_pred = clf.predict(X_test)\n",
    "\n"
   ]
  },
  {
   "cell_type": "code",
   "execution_count": 12,
   "metadata": {},
   "outputs": [
    {
     "name": "stdout",
     "output_type": "stream",
     "text": [
      "Accuracy: 0.9171270718232044\n"
     ]
    }
   ],
   "source": [
    "# Step 4: Calculate accuracy \n",
    "from sklearn.metrics import accuracy_score\n",
    "accuracy = accuracy_score(y_test, y_pred)\n",
    "print(\"Accuracy:\", accuracy)"
   ]
  },
  {
   "cell_type": "code",
   "execution_count": 13,
   "metadata": {},
   "outputs": [],
   "source": [
    "\n",
    "# Step 5: Visualize feature importances\n",
    "feature_importances = clf.feature_importances_\n",
    "feature_names = X_train.columns"
   ]
  },
  {
   "cell_type": "markdown",
   "metadata": {},
   "source": [
    "The graph displays the top feature importances, allowing us to identify the most influential features in the model's decision-making."
   ]
  },
  {
   "cell_type": "code",
   "execution_count": 15,
   "metadata": {},
   "outputs": [
    {
     "data": {
      "application/vnd.plotly.v1+json": {
       "config": {
        "plotlyServerURL": "https://plot.ly"
       },
       "data": [
        {
         "alignmentgroup": "True",
         "hovertemplate": "Feature=%{x}<br>Importance=%{y}<extra></extra>",
         "legendgroup": "",
         "marker": {
          "color": "#636efa",
          "pattern": {
           "shape": ""
          }
         },
         "name": "",
         "offsetgroup": "",
         "orientation": "v",
         "showlegend": false,
         "textposition": "auto",
         "type": "bar",
         "x": [
          "Absolute Magnitude (H)",
          "Min Diameter (km)",
          "Relative Velocity (km/s)",
          "year"
         ],
         "xaxis": "x",
         "y": [
          0.45845307984310557,
          0.4066270061990142,
          0.1345660574747701,
          0.0003538564831101755
         ],
         "yaxis": "y"
        }
       ],
       "layout": {
        "barmode": "relative",
        "legend": {
         "tracegroupgap": 0
        },
        "template": {
         "data": {
          "bar": [
           {
            "error_x": {
             "color": "#2a3f5f"
            },
            "error_y": {
             "color": "#2a3f5f"
            },
            "marker": {
             "line": {
              "color": "#E5ECF6",
              "width": 0.5
             },
             "pattern": {
              "fillmode": "overlay",
              "size": 10,
              "solidity": 0.2
             }
            },
            "type": "bar"
           }
          ],
          "barpolar": [
           {
            "marker": {
             "line": {
              "color": "#E5ECF6",
              "width": 0.5
             },
             "pattern": {
              "fillmode": "overlay",
              "size": 10,
              "solidity": 0.2
             }
            },
            "type": "barpolar"
           }
          ],
          "carpet": [
           {
            "aaxis": {
             "endlinecolor": "#2a3f5f",
             "gridcolor": "white",
             "linecolor": "white",
             "minorgridcolor": "white",
             "startlinecolor": "#2a3f5f"
            },
            "baxis": {
             "endlinecolor": "#2a3f5f",
             "gridcolor": "white",
             "linecolor": "white",
             "minorgridcolor": "white",
             "startlinecolor": "#2a3f5f"
            },
            "type": "carpet"
           }
          ],
          "choropleth": [
           {
            "colorbar": {
             "outlinewidth": 0,
             "ticks": ""
            },
            "type": "choropleth"
           }
          ],
          "contour": [
           {
            "colorbar": {
             "outlinewidth": 0,
             "ticks": ""
            },
            "colorscale": [
             [
              0,
              "#0d0887"
             ],
             [
              0.1111111111111111,
              "#46039f"
             ],
             [
              0.2222222222222222,
              "#7201a8"
             ],
             [
              0.3333333333333333,
              "#9c179e"
             ],
             [
              0.4444444444444444,
              "#bd3786"
             ],
             [
              0.5555555555555556,
              "#d8576b"
             ],
             [
              0.6666666666666666,
              "#ed7953"
             ],
             [
              0.7777777777777778,
              "#fb9f3a"
             ],
             [
              0.8888888888888888,
              "#fdca26"
             ],
             [
              1,
              "#f0f921"
             ]
            ],
            "type": "contour"
           }
          ],
          "contourcarpet": [
           {
            "colorbar": {
             "outlinewidth": 0,
             "ticks": ""
            },
            "type": "contourcarpet"
           }
          ],
          "heatmap": [
           {
            "colorbar": {
             "outlinewidth": 0,
             "ticks": ""
            },
            "colorscale": [
             [
              0,
              "#0d0887"
             ],
             [
              0.1111111111111111,
              "#46039f"
             ],
             [
              0.2222222222222222,
              "#7201a8"
             ],
             [
              0.3333333333333333,
              "#9c179e"
             ],
             [
              0.4444444444444444,
              "#bd3786"
             ],
             [
              0.5555555555555556,
              "#d8576b"
             ],
             [
              0.6666666666666666,
              "#ed7953"
             ],
             [
              0.7777777777777778,
              "#fb9f3a"
             ],
             [
              0.8888888888888888,
              "#fdca26"
             ],
             [
              1,
              "#f0f921"
             ]
            ],
            "type": "heatmap"
           }
          ],
          "heatmapgl": [
           {
            "colorbar": {
             "outlinewidth": 0,
             "ticks": ""
            },
            "colorscale": [
             [
              0,
              "#0d0887"
             ],
             [
              0.1111111111111111,
              "#46039f"
             ],
             [
              0.2222222222222222,
              "#7201a8"
             ],
             [
              0.3333333333333333,
              "#9c179e"
             ],
             [
              0.4444444444444444,
              "#bd3786"
             ],
             [
              0.5555555555555556,
              "#d8576b"
             ],
             [
              0.6666666666666666,
              "#ed7953"
             ],
             [
              0.7777777777777778,
              "#fb9f3a"
             ],
             [
              0.8888888888888888,
              "#fdca26"
             ],
             [
              1,
              "#f0f921"
             ]
            ],
            "type": "heatmapgl"
           }
          ],
          "histogram": [
           {
            "marker": {
             "pattern": {
              "fillmode": "overlay",
              "size": 10,
              "solidity": 0.2
             }
            },
            "type": "histogram"
           }
          ],
          "histogram2d": [
           {
            "colorbar": {
             "outlinewidth": 0,
             "ticks": ""
            },
            "colorscale": [
             [
              0,
              "#0d0887"
             ],
             [
              0.1111111111111111,
              "#46039f"
             ],
             [
              0.2222222222222222,
              "#7201a8"
             ],
             [
              0.3333333333333333,
              "#9c179e"
             ],
             [
              0.4444444444444444,
              "#bd3786"
             ],
             [
              0.5555555555555556,
              "#d8576b"
             ],
             [
              0.6666666666666666,
              "#ed7953"
             ],
             [
              0.7777777777777778,
              "#fb9f3a"
             ],
             [
              0.8888888888888888,
              "#fdca26"
             ],
             [
              1,
              "#f0f921"
             ]
            ],
            "type": "histogram2d"
           }
          ],
          "histogram2dcontour": [
           {
            "colorbar": {
             "outlinewidth": 0,
             "ticks": ""
            },
            "colorscale": [
             [
              0,
              "#0d0887"
             ],
             [
              0.1111111111111111,
              "#46039f"
             ],
             [
              0.2222222222222222,
              "#7201a8"
             ],
             [
              0.3333333333333333,
              "#9c179e"
             ],
             [
              0.4444444444444444,
              "#bd3786"
             ],
             [
              0.5555555555555556,
              "#d8576b"
             ],
             [
              0.6666666666666666,
              "#ed7953"
             ],
             [
              0.7777777777777778,
              "#fb9f3a"
             ],
             [
              0.8888888888888888,
              "#fdca26"
             ],
             [
              1,
              "#f0f921"
             ]
            ],
            "type": "histogram2dcontour"
           }
          ],
          "mesh3d": [
           {
            "colorbar": {
             "outlinewidth": 0,
             "ticks": ""
            },
            "type": "mesh3d"
           }
          ],
          "parcoords": [
           {
            "line": {
             "colorbar": {
              "outlinewidth": 0,
              "ticks": ""
             }
            },
            "type": "parcoords"
           }
          ],
          "pie": [
           {
            "automargin": true,
            "type": "pie"
           }
          ],
          "scatter": [
           {
            "fillpattern": {
             "fillmode": "overlay",
             "size": 10,
             "solidity": 0.2
            },
            "type": "scatter"
           }
          ],
          "scatter3d": [
           {
            "line": {
             "colorbar": {
              "outlinewidth": 0,
              "ticks": ""
             }
            },
            "marker": {
             "colorbar": {
              "outlinewidth": 0,
              "ticks": ""
             }
            },
            "type": "scatter3d"
           }
          ],
          "scattercarpet": [
           {
            "marker": {
             "colorbar": {
              "outlinewidth": 0,
              "ticks": ""
             }
            },
            "type": "scattercarpet"
           }
          ],
          "scattergeo": [
           {
            "marker": {
             "colorbar": {
              "outlinewidth": 0,
              "ticks": ""
             }
            },
            "type": "scattergeo"
           }
          ],
          "scattergl": [
           {
            "marker": {
             "colorbar": {
              "outlinewidth": 0,
              "ticks": ""
             }
            },
            "type": "scattergl"
           }
          ],
          "scattermapbox": [
           {
            "marker": {
             "colorbar": {
              "outlinewidth": 0,
              "ticks": ""
             }
            },
            "type": "scattermapbox"
           }
          ],
          "scatterpolar": [
           {
            "marker": {
             "colorbar": {
              "outlinewidth": 0,
              "ticks": ""
             }
            },
            "type": "scatterpolar"
           }
          ],
          "scatterpolargl": [
           {
            "marker": {
             "colorbar": {
              "outlinewidth": 0,
              "ticks": ""
             }
            },
            "type": "scatterpolargl"
           }
          ],
          "scatterternary": [
           {
            "marker": {
             "colorbar": {
              "outlinewidth": 0,
              "ticks": ""
             }
            },
            "type": "scatterternary"
           }
          ],
          "surface": [
           {
            "colorbar": {
             "outlinewidth": 0,
             "ticks": ""
            },
            "colorscale": [
             [
              0,
              "#0d0887"
             ],
             [
              0.1111111111111111,
              "#46039f"
             ],
             [
              0.2222222222222222,
              "#7201a8"
             ],
             [
              0.3333333333333333,
              "#9c179e"
             ],
             [
              0.4444444444444444,
              "#bd3786"
             ],
             [
              0.5555555555555556,
              "#d8576b"
             ],
             [
              0.6666666666666666,
              "#ed7953"
             ],
             [
              0.7777777777777778,
              "#fb9f3a"
             ],
             [
              0.8888888888888888,
              "#fdca26"
             ],
             [
              1,
              "#f0f921"
             ]
            ],
            "type": "surface"
           }
          ],
          "table": [
           {
            "cells": {
             "fill": {
              "color": "#EBF0F8"
             },
             "line": {
              "color": "white"
             }
            },
            "header": {
             "fill": {
              "color": "#C8D4E3"
             },
             "line": {
              "color": "white"
             }
            },
            "type": "table"
           }
          ]
         },
         "layout": {
          "annotationdefaults": {
           "arrowcolor": "#2a3f5f",
           "arrowhead": 0,
           "arrowwidth": 1
          },
          "autotypenumbers": "strict",
          "coloraxis": {
           "colorbar": {
            "outlinewidth": 0,
            "ticks": ""
           }
          },
          "colorscale": {
           "diverging": [
            [
             0,
             "#8e0152"
            ],
            [
             0.1,
             "#c51b7d"
            ],
            [
             0.2,
             "#de77ae"
            ],
            [
             0.3,
             "#f1b6da"
            ],
            [
             0.4,
             "#fde0ef"
            ],
            [
             0.5,
             "#f7f7f7"
            ],
            [
             0.6,
             "#e6f5d0"
            ],
            [
             0.7,
             "#b8e186"
            ],
            [
             0.8,
             "#7fbc41"
            ],
            [
             0.9,
             "#4d9221"
            ],
            [
             1,
             "#276419"
            ]
           ],
           "sequential": [
            [
             0,
             "#0d0887"
            ],
            [
             0.1111111111111111,
             "#46039f"
            ],
            [
             0.2222222222222222,
             "#7201a8"
            ],
            [
             0.3333333333333333,
             "#9c179e"
            ],
            [
             0.4444444444444444,
             "#bd3786"
            ],
            [
             0.5555555555555556,
             "#d8576b"
            ],
            [
             0.6666666666666666,
             "#ed7953"
            ],
            [
             0.7777777777777778,
             "#fb9f3a"
            ],
            [
             0.8888888888888888,
             "#fdca26"
            ],
            [
             1,
             "#f0f921"
            ]
           ],
           "sequentialminus": [
            [
             0,
             "#0d0887"
            ],
            [
             0.1111111111111111,
             "#46039f"
            ],
            [
             0.2222222222222222,
             "#7201a8"
            ],
            [
             0.3333333333333333,
             "#9c179e"
            ],
            [
             0.4444444444444444,
             "#bd3786"
            ],
            [
             0.5555555555555556,
             "#d8576b"
            ],
            [
             0.6666666666666666,
             "#ed7953"
            ],
            [
             0.7777777777777778,
             "#fb9f3a"
            ],
            [
             0.8888888888888888,
             "#fdca26"
            ],
            [
             1,
             "#f0f921"
            ]
           ]
          },
          "colorway": [
           "#636efa",
           "#EF553B",
           "#00cc96",
           "#ab63fa",
           "#FFA15A",
           "#19d3f3",
           "#FF6692",
           "#B6E880",
           "#FF97FF",
           "#FECB52"
          ],
          "font": {
           "color": "#2a3f5f"
          },
          "geo": {
           "bgcolor": "white",
           "lakecolor": "white",
           "landcolor": "#E5ECF6",
           "showlakes": true,
           "showland": true,
           "subunitcolor": "white"
          },
          "hoverlabel": {
           "align": "left"
          },
          "hovermode": "closest",
          "mapbox": {
           "style": "light"
          },
          "paper_bgcolor": "white",
          "plot_bgcolor": "#E5ECF6",
          "polar": {
           "angularaxis": {
            "gridcolor": "white",
            "linecolor": "white",
            "ticks": ""
           },
           "bgcolor": "#E5ECF6",
           "radialaxis": {
            "gridcolor": "white",
            "linecolor": "white",
            "ticks": ""
           }
          },
          "scene": {
           "xaxis": {
            "backgroundcolor": "#E5ECF6",
            "gridcolor": "white",
            "gridwidth": 2,
            "linecolor": "white",
            "showbackground": true,
            "ticks": "",
            "zerolinecolor": "white"
           },
           "yaxis": {
            "backgroundcolor": "#E5ECF6",
            "gridcolor": "white",
            "gridwidth": 2,
            "linecolor": "white",
            "showbackground": true,
            "ticks": "",
            "zerolinecolor": "white"
           },
           "zaxis": {
            "backgroundcolor": "#E5ECF6",
            "gridcolor": "white",
            "gridwidth": 2,
            "linecolor": "white",
            "showbackground": true,
            "ticks": "",
            "zerolinecolor": "white"
           }
          },
          "shapedefaults": {
           "line": {
            "color": "#2a3f5f"
           }
          },
          "ternary": {
           "aaxis": {
            "gridcolor": "white",
            "linecolor": "white",
            "ticks": ""
           },
           "baxis": {
            "gridcolor": "white",
            "linecolor": "white",
            "ticks": ""
           },
           "bgcolor": "#E5ECF6",
           "caxis": {
            "gridcolor": "white",
            "linecolor": "white",
            "ticks": ""
           }
          },
          "title": {
           "x": 0.05
          },
          "xaxis": {
           "automargin": true,
           "gridcolor": "white",
           "linecolor": "white",
           "ticks": "",
           "title": {
            "standoff": 15
           },
           "zerolinecolor": "white",
           "zerolinewidth": 2
          },
          "yaxis": {
           "automargin": true,
           "gridcolor": "white",
           "linecolor": "white",
           "ticks": "",
           "title": {
            "standoff": 15
           },
           "zerolinecolor": "white",
           "zerolinewidth": 2
          }
         }
        },
        "title": {
         "text": "Top Feature Importances"
        },
        "xaxis": {
         "anchor": "y",
         "categoryorder": "total ascending",
         "domain": [
          0,
          1
         ],
         "title": {
          "text": "Top Features"
         }
        },
        "yaxis": {
         "anchor": "x",
         "domain": [
          0,
          1
         ],
         "title": {
          "text": "Importance"
         }
        }
       }
      }
     },
     "metadata": {},
     "output_type": "display_data"
    }
   ],
   "source": [
    "\n",
    "import plotly.express as px\n",
    "\n",
    "# Create a DataFrame for the top features and their importances\n",
    "top_feature_df = pd.DataFrame({'Feature': feature_names, 'Importance': feature_importances})\n",
    "\n",
    "# Create an interactive bar plot using Plotly\n",
    "fig = px.bar(top_feature_df, x='Feature', y='Importance', title=\"Top Feature Importances\")\n",
    "fig.update_xaxes(categoryorder='total ascending')  # Sort x-axis by importance\n",
    "fig.update_xaxes(title_text='Top Features')\n",
    "fig.update_yaxes(title_text='Importance')\n",
    "\n",
    "# Show the plot\n",
    "fig.show()\n",
    "\n"
   ]
  }
 ],
 "metadata": {
  "kernelspec": {
   "display_name": "Python 3 (ipykernel)",
   "language": "python",
   "name": "python3"
  },
  "language_info": {
   "codemirror_mode": {
    "name": "ipython",
    "version": 3
   },
   "file_extension": ".py",
   "mimetype": "text/x-python",
   "name": "python",
   "nbconvert_exporter": "python",
   "pygments_lexer": "ipython3",
   "version": "3.11.0"
  }
 },
 "nbformat": 4,
 "nbformat_minor": 4
}
